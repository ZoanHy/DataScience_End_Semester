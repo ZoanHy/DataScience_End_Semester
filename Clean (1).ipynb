{
 "cells": [
  {
   "attachments": {},
   "cell_type": "markdown",
   "metadata": {},
   "source": [
    "### **1. Cài đặt thư viện**\n"
   ]
  },
  {
   "cell_type": "code",
   "execution_count": 12,
   "metadata": {},
   "outputs": [],
   "source": [
    "from IPython.core.interactiveshell import InteractiveShell\n",
    "from urllib.request import urlopen\n",
    "import requests\n",
    "from bs4 import BeautifulSoup\n",
    "from pprint import pprint\n",
    "import pandas as pd\n",
    "import numpy as np\n",
    "import warnings\n",
    "import seaborn as sns\n",
    "from functools import reduce\n",
    "from abc import ABCMeta, abstractmethod\n",
    "\n",
    "pd.set_option(\"display.max_rows\", 500)\n",
    "pd.set_option(\"display.max_columns\", 500)\n",
    "pd.set_option(\"display.width\", 1000)\n",
    "\n",
    "warnings.filterwarnings(\"ignore\")\n",
    "InteractiveShell.ast_node_interactivity = \"all\"\n",
    "\n",
    "# %load_ext autotime"
   ]
  },
  {
   "cell_type": "code",
   "execution_count": 13,
   "metadata": {},
   "outputs": [],
   "source": [
    "dict_raw_data_first_col = {\n",
    "    \"dang_quang\": pd.read_csv(\"../main/raw_data/dang_quang.csv\"),\n",
    "    \"duy_anh\": pd.read_csv(\"../main/raw_data/duy_anh.csv\"),\n",
    "    \"the_gioi_dong_ho\": pd.read_csv(\"../main/raw_data/the_gioi_dong_ho.csv\"),\n",
    "    \"x_watch\": pd.read_csv(\"../main/raw_data/x_watch.csv\"),\n",
    "    \"hai_trieu\": pd.read_csv(\"../main/raw_data/hai_trieu.csv\"),\n",
    "}\n",
    "\n",
    "dict_raw_data = {}\n",
    "\n",
    "for key, item in dict_raw_data_first_col.items():\n",
    "    dict_raw_data[key] = item.drop(item.columns[0], axis=1)"
   ]
  },
  {
   "attachments": {},
   "cell_type": "markdown",
   "metadata": {},
   "source": [
    "### **2. Xem các thông số của từng trang**\n"
   ]
  },
  {
   "cell_type": "code",
   "execution_count": 14,
   "metadata": {},
   "outputs": [
    {
     "name": "stdout",
     "output_type": "stream",
     "text": [
      "\u001b[94mWebsite: dang_quang - Shape: (3098, 13)\n",
      "\n"
     ]
    },
    {
     "data": {
      "text/html": [
       "<div>\n",
       "<style scoped>\n",
       "    .dataframe tbody tr th:only-of-type {\n",
       "        vertical-align: middle;\n",
       "    }\n",
       "\n",
       "    .dataframe tbody tr th {\n",
       "        vertical-align: top;\n",
       "    }\n",
       "\n",
       "    .dataframe thead th {\n",
       "        text-align: right;\n",
       "    }\n",
       "</style>\n",
       "<table border=\"1\" class=\"dataframe\">\n",
       "  <thead>\n",
       "    <tr style=\"text-align: right;\">\n",
       "      <th></th>\n",
       "      <th>Mã sản phẩm</th>\n",
       "      <th>Thương hiệu</th>\n",
       "      <th>Giá tiền</th>\n",
       "      <th>Đường kính mặt</th>\n",
       "      <th>Chống nước</th>\n",
       "      <th>Chất liệu mặt</th>\n",
       "      <th>Năng lượng sử dụng</th>\n",
       "      <th>Size dây</th>\n",
       "      <th>Chất liệu dây</th>\n",
       "      <th>Chất liệu vỏ</th>\n",
       "      <th>Kiểu dáng</th>\n",
       "      <th>Xuất xứ</th>\n",
       "      <th>Chế độ bảo hành</th>\n",
       "    </tr>\n",
       "  </thead>\n",
       "  <tbody>\n",
       "    <tr>\n",
       "      <th>0</th>\n",
       "      <td>PA5018H</td>\n",
       "      <td>Philippe Auguste</td>\n",
       "      <td>4.581.000đ</td>\n",
       "      <td>42 mm</td>\n",
       "      <td>5 ATM</td>\n",
       "      <td>Tráng Sapphire</td>\n",
       "      <td>Quartz/Pin</td>\n",
       "      <td>21 mm</td>\n",
       "      <td>Dây da chính hãng</td>\n",
       "      <td>Thép không gỉ</td>\n",
       "      <td>Đồng hồ Nam</td>\n",
       "      <td>China</td>\n",
       "      <td>Bảo hành quốc tế 02 năm</td>\n",
       "    </tr>\n",
       "    <tr>\n",
       "      <th>1</th>\n",
       "      <td>PA5018G</td>\n",
       "      <td>Philippe Auguste</td>\n",
       "      <td>4.581.000đ</td>\n",
       "      <td>42 mm</td>\n",
       "      <td>5 ATM</td>\n",
       "      <td>Tráng Sapphire</td>\n",
       "      <td>Quartz/Pin</td>\n",
       "      <td>21 mm</td>\n",
       "      <td>Dây da chính hãng</td>\n",
       "      <td>Thép không gỉ</td>\n",
       "      <td>Đồng hồ Nam</td>\n",
       "      <td>China</td>\n",
       "      <td>Bảo hành quốc tế 02 năm</td>\n",
       "    </tr>\n",
       "    <tr>\n",
       "      <th>2</th>\n",
       "      <td>PA2022</td>\n",
       "      <td>Philippe Auguste</td>\n",
       "      <td>10.710.000đ</td>\n",
       "      <td>40 mm</td>\n",
       "      <td>5 ATM</td>\n",
       "      <td>Tráng Sapphire</td>\n",
       "      <td>Quartz/Pin</td>\n",
       "      <td>20 mm</td>\n",
       "      <td>Dây da chính hãng</td>\n",
       "      <td>Thép không gỉ</td>\n",
       "      <td>Đồng hồ Nam</td>\n",
       "      <td>China</td>\n",
       "      <td>Bảo hành quốc tế 02 năm</td>\n",
       "    </tr>\n",
       "    <tr>\n",
       "      <th>3</th>\n",
       "      <td>PA5021B</td>\n",
       "      <td>Philippe Auguste</td>\n",
       "      <td>5.379.300đ</td>\n",
       "      <td>42 mm</td>\n",
       "      <td>10 ATM</td>\n",
       "      <td>Tráng Sapphire</td>\n",
       "      <td>Quartz/Pin</td>\n",
       "      <td>21 mm</td>\n",
       "      <td>Dây da chính hãng</td>\n",
       "      <td>Thép không gỉ</td>\n",
       "      <td>Đồng hồ Nam</td>\n",
       "      <td>China</td>\n",
       "      <td>Bảo hành quốc tế 02 năm</td>\n",
       "    </tr>\n",
       "    <tr>\n",
       "      <th>4</th>\n",
       "      <td>PA5021H</td>\n",
       "      <td>Philippe Auguste</td>\n",
       "      <td>5.990.400đ</td>\n",
       "      <td>42 mm</td>\n",
       "      <td>10 ATM</td>\n",
       "      <td>Tráng Sapphire</td>\n",
       "      <td>Quartz/Pin</td>\n",
       "      <td>21 mm</td>\n",
       "      <td>Dây da chính hãng</td>\n",
       "      <td>Thép không gỉ</td>\n",
       "      <td>Đồng hồ Nam</td>\n",
       "      <td>China</td>\n",
       "      <td>Bảo hành quốc tế 02 năm</td>\n",
       "    </tr>\n",
       "  </tbody>\n",
       "</table>\n",
       "</div>"
      ],
      "text/plain": [
       "  Mã sản phẩm       Thương hiệu     Giá tiền Đường kính mặt Chống nước   Chất liệu mặt Năng lượng sử dụng Size dây      Chất liệu dây   Chất liệu vỏ    Kiểu dáng Xuất xứ          Chế độ bảo hành\n",
       "0     PA5018H  Philippe Auguste   4.581.000đ          42 mm      5 ATM  Tráng Sapphire         Quartz/Pin    21 mm  Dây da chính hãng  Thép không gỉ  Đồng hồ Nam   China  Bảo hành quốc tế 02 năm\n",
       "1     PA5018G  Philippe Auguste   4.581.000đ          42 mm      5 ATM  Tráng Sapphire         Quartz/Pin    21 mm  Dây da chính hãng  Thép không gỉ  Đồng hồ Nam   China  Bảo hành quốc tế 02 năm\n",
       "2      PA2022  Philippe Auguste  10.710.000đ          40 mm      5 ATM  Tráng Sapphire         Quartz/Pin    20 mm  Dây da chính hãng  Thép không gỉ  Đồng hồ Nam   China  Bảo hành quốc tế 02 năm\n",
       "3     PA5021B  Philippe Auguste   5.379.300đ          42 mm     10 ATM  Tráng Sapphire         Quartz/Pin    21 mm  Dây da chính hãng  Thép không gỉ  Đồng hồ Nam   China  Bảo hành quốc tế 02 năm\n",
       "4     PA5021H  Philippe Auguste   5.990.400đ          42 mm     10 ATM  Tráng Sapphire         Quartz/Pin    21 mm  Dây da chính hãng  Thép không gỉ  Đồng hồ Nam   China  Bảo hành quốc tế 02 năm"
      ]
     },
     "execution_count": 14,
     "metadata": {},
     "output_type": "execute_result"
    },
    {
     "name": "stdout",
     "output_type": "stream",
     "text": [
      "\n",
      "\u001b[94mWebsite: duy_anh - Shape: (2963, 18)\n",
      "\n"
     ]
    },
    {
     "data": {
      "text/html": [
       "<div>\n",
       "<style scoped>\n",
       "    .dataframe tbody tr th:only-of-type {\n",
       "        vertical-align: middle;\n",
       "    }\n",
       "\n",
       "    .dataframe tbody tr th {\n",
       "        vertical-align: top;\n",
       "    }\n",
       "\n",
       "    .dataframe thead th {\n",
       "        text-align: right;\n",
       "    }\n",
       "</style>\n",
       "<table border=\"1\" class=\"dataframe\">\n",
       "  <thead>\n",
       "    <tr style=\"text-align: right;\">\n",
       "      <th></th>\n",
       "      <th>Thương hiệu</th>\n",
       "      <th>Giá tiền</th>\n",
       "      <th>Mã sản phẩm</th>\n",
       "      <th>giới tính</th>\n",
       "      <th>kiểu dáng</th>\n",
       "      <th>loại máy</th>\n",
       "      <th>phong cách</th>\n",
       "      <th>mặt kính</th>\n",
       "      <th>đường kính</th>\n",
       "      <th>chất liệu vỏ</th>\n",
       "      <th>độ dày</th>\n",
       "      <th>chất liệu dây</th>\n",
       "      <th>độ chịu nước</th>\n",
       "      <th>tính năng khác</th>\n",
       "      <th>bảo hành chính hãng</th>\n",
       "      <th>màu mặt</th>\n",
       "      <th>xuất xứ thương hiệu</th>\n",
       "      <th>bảo hành duy anh</th>\n",
       "    </tr>\n",
       "  </thead>\n",
       "  <tbody>\n",
       "    <tr>\n",
       "      <th>0</th>\n",
       "      <td>CITIZEN</td>\n",
       "      <td>12.937.000</td>\n",
       "      <td>CB0011-51L</td>\n",
       "      <td>Nam</td>\n",
       "      <td>Mặt tròn</td>\n",
       "      <td>Eco-Drive (Năng lượng ánh sáng)</td>\n",
       "      <td>Thể thao</td>\n",
       "      <td>Sapphire</td>\n",
       "      <td>44mm x 44mm</td>\n",
       "      <td>Thép không gỉ 316L</td>\n",
       "      <td>10.3mm</td>\n",
       "      <td>Thép không gỉ 316L</td>\n",
       "      <td>100m</td>\n",
       "      <td>Lịch thế kỷ.</td>\n",
       "      <td>1 năm quốc tế</td>\n",
       "      <td>Xanh lam</td>\n",
       "      <td>Nhật Bản</td>\n",
       "      <td>NaN</td>\n",
       "    </tr>\n",
       "    <tr>\n",
       "      <th>1</th>\n",
       "      <td>CALVIN KLEIN</td>\n",
       "      <td>7.758.000</td>\n",
       "      <td>K3Y2M11F</td>\n",
       "      <td>Nữ</td>\n",
       "      <td>Mặt vuông</td>\n",
       "      <td>Quartz (Máy pin - điện tử)</td>\n",
       "      <td>Thời trang</td>\n",
       "      <td>Mặt kính cứng</td>\n",
       "      <td>19.5mm x 36.5mm</td>\n",
       "      <td>Thép không gỉ 316L</td>\n",
       "      <td>8mm</td>\n",
       "      <td>Thép không gỉ 316L dạng lắc</td>\n",
       "      <td>30m</td>\n",
       "      <td>NaN</td>\n",
       "      <td>2 năm quốc tế</td>\n",
       "      <td>Xanh lam</td>\n",
       "      <td>Thụy Sỹ</td>\n",
       "      <td>5 năm (đã bao gồm Bảo hành Quốc tế). Thay pin ...</td>\n",
       "    </tr>\n",
       "    <tr>\n",
       "      <th>2</th>\n",
       "      <td>CALVIN KLEIN</td>\n",
       "      <td>3.670.000</td>\n",
       "      <td>K3041107</td>\n",
       "      <td>Nam</td>\n",
       "      <td>Mặt vuông</td>\n",
       "      <td>Quartz (Máy pin - điện tử)</td>\n",
       "      <td>Thời trang</td>\n",
       "      <td>Mặt kính cứng</td>\n",
       "      <td>31.5mm x 35.8mm</td>\n",
       "      <td>Thép không gỉ 316L</td>\n",
       "      <td>10mm</td>\n",
       "      <td>Dây da</td>\n",
       "      <td>100 m</td>\n",
       "      <td>Đặt hàng online giảm giá 10%</td>\n",
       "      <td>2 năm quốc tế</td>\n",
       "      <td>Đen</td>\n",
       "      <td>Thụy Sỹ</td>\n",
       "      <td>5 năm (đã bao gồm Bảo hành Quốc tế). Thay pin ...</td>\n",
       "    </tr>\n",
       "    <tr>\n",
       "      <th>3</th>\n",
       "      <td>HAMILTON</td>\n",
       "      <td>12.903.000</td>\n",
       "      <td>H64611135</td>\n",
       "      <td>Nam</td>\n",
       "      <td>Mặt tròn</td>\n",
       "      <td>Quartz (Máy pin - điện tử)</td>\n",
       "      <td>Thể thao</td>\n",
       "      <td>Sapphire</td>\n",
       "      <td>42mm</td>\n",
       "      <td>Thép không gỉ 316L</td>\n",
       "      <td>11.9mm</td>\n",
       "      <td>Thép không gỉ 316L</td>\n",
       "      <td>200m</td>\n",
       "      <td>Lịch thứ, lịch ngày.</td>\n",
       "      <td>2 năm quốc tế</td>\n",
       "      <td>Đen</td>\n",
       "      <td>Thụy Sỹ</td>\n",
       "      <td>5 năm (đã bao gồm Bảo hành Quốc tế). Thay pin ...</td>\n",
       "    </tr>\n",
       "    <tr>\n",
       "      <th>4</th>\n",
       "      <td>HAMILTON</td>\n",
       "      <td>11.968.000</td>\n",
       "      <td>H69439363</td>\n",
       "      <td>Nam</td>\n",
       "      <td>Mặt tròn</td>\n",
       "      <td>Đồng hồ cơ lên giây cót bằng tay ( Manual wind...</td>\n",
       "      <td>Quân đội</td>\n",
       "      <td>Sapphire</td>\n",
       "      <td>38mm</td>\n",
       "      <td>Thép không gỉ 316L</td>\n",
       "      <td>NaN</td>\n",
       "      <td>Dây dù</td>\n",
       "      <td>50m</td>\n",
       "      <td>Lịch ngày. Caliber H-50, trữ cót 80h.</td>\n",
       "      <td>2 năm quốc tế</td>\n",
       "      <td>Xanh Lá</td>\n",
       "      <td>Thụy Sỹ</td>\n",
       "      <td>5 năm (đã bao gồm Bảo hành Quốc tế)</td>\n",
       "    </tr>\n",
       "  </tbody>\n",
       "</table>\n",
       "</div>"
      ],
      "text/plain": [
       "    Thương hiệu    Giá tiền Mã sản phẩm giới tính  kiểu dáng                                           loại máy  phong cách       mặt kính       đường kính        chất liệu vỏ  độ dày                chất liệu dây độ chịu nước                         tính năng khác bảo hành chính hãng   màu mặt xuất xứ thương hiệu                                   bảo hành duy anh\n",
       "0       CITIZEN  12.937.000  CB0011-51L       Nam   Mặt tròn                    Eco-Drive (Năng lượng ánh sáng)    Thể thao       Sapphire      44mm x 44mm  Thép không gỉ 316L  10.3mm           Thép không gỉ 316L         100m                           Lịch thế kỷ.       1 năm quốc tế  Xanh lam            Nhật Bản                                                NaN\n",
       "1  CALVIN KLEIN   7.758.000    K3Y2M11F        Nữ  Mặt vuông                         Quartz (Máy pin - điện tử)  Thời trang  Mặt kính cứng  19.5mm x 36.5mm  Thép không gỉ 316L     8mm  Thép không gỉ 316L dạng lắc          30m                                    NaN       2 năm quốc tế  Xanh lam             Thụy Sỹ  5 năm (đã bao gồm Bảo hành Quốc tế). Thay pin ...\n",
       "2  CALVIN KLEIN   3.670.000    K3041107       Nam  Mặt vuông                         Quartz (Máy pin - điện tử)  Thời trang  Mặt kính cứng  31.5mm x 35.8mm  Thép không gỉ 316L    10mm                       Dây da        100 m           Đặt hàng online giảm giá 10%       2 năm quốc tế       Đen             Thụy Sỹ  5 năm (đã bao gồm Bảo hành Quốc tế). Thay pin ...\n",
       "3      HAMILTON  12.903.000   H64611135       Nam   Mặt tròn                         Quartz (Máy pin - điện tử)    Thể thao       Sapphire             42mm  Thép không gỉ 316L  11.9mm           Thép không gỉ 316L         200m                   Lịch thứ, lịch ngày.       2 năm quốc tế       Đen             Thụy Sỹ  5 năm (đã bao gồm Bảo hành Quốc tế). Thay pin ...\n",
       "4      HAMILTON  11.968.000   H69439363       Nam   Mặt tròn  Đồng hồ cơ lên giây cót bằng tay ( Manual wind...    Quân đội       Sapphire             38mm  Thép không gỉ 316L     NaN                       Dây dù          50m  Lịch ngày. Caliber H-50, trữ cót 80h.       2 năm quốc tế   Xanh Lá             Thụy Sỹ                5 năm (đã bao gồm Bảo hành Quốc tế)"
      ]
     },
     "execution_count": 14,
     "metadata": {},
     "output_type": "execute_result"
    },
    {
     "name": "stdout",
     "output_type": "stream",
     "text": [
      "\n",
      "\u001b[94mWebsite: the_gioi_dong_ho - Shape: (1840, 18)\n",
      "\n"
     ]
    },
    {
     "data": {
      "text/html": [
       "<div>\n",
       "<style scoped>\n",
       "    .dataframe tbody tr th:only-of-type {\n",
       "        vertical-align: middle;\n",
       "    }\n",
       "\n",
       "    .dataframe tbody tr th {\n",
       "        vertical-align: top;\n",
       "    }\n",
       "\n",
       "    .dataframe thead th {\n",
       "        text-align: right;\n",
       "    }\n",
       "</style>\n",
       "<table border=\"1\" class=\"dataframe\">\n",
       "  <thead>\n",
       "    <tr style=\"text-align: right;\">\n",
       "      <th></th>\n",
       "      <th>Tên sản phẩm</th>\n",
       "      <th>Giá tiền</th>\n",
       "      <th>Mã sản phẩm</th>\n",
       "      <th>Thương Hiệu</th>\n",
       "      <th>Quốc gia đăng ký thương hiệu</th>\n",
       "      <th>Giới tính</th>\n",
       "      <th>Loại sản phẩm</th>\n",
       "      <th>Đường kính mặt</th>\n",
       "      <th>Chiều dày</th>\n",
       "      <th>Chất liệu vỏ</th>\n",
       "      <th>Chất liệu dây</th>\n",
       "      <th>Chất liệu mặt kính</th>\n",
       "      <th>Độ chịu nước</th>\n",
       "      <th>Nơi sản xuất</th>\n",
       "      <th>Bảo hành</th>\n",
       "      <th>Kiểu máy</th>\n",
       "      <th>Dành cho</th>\n",
       "      <th>Mã sản phâm</th>\n",
       "    </tr>\n",
       "  </thead>\n",
       "  <tbody>\n",
       "    <tr>\n",
       "      <th>0</th>\n",
       "      <td>LOBINNI</td>\n",
       "      <td>5,150,000 VNĐ</td>\n",
       "      <td>L9222-1</td>\n",
       "      <td>LOBINNI</td>\n",
       "      <td>Thụy Sỹ</td>\n",
       "      <td>Nam</td>\n",
       "      <td>Đồng hồ cơ (Automatic)</td>\n",
       "      <td>42 mm</td>\n",
       "      <td>11.5 mm</td>\n",
       "      <td>Thép không gỉ 316L</td>\n",
       "      <td>Dây da cao cấp</td>\n",
       "      <td>Sapphire</td>\n",
       "      <td>5 ATM</td>\n",
       "      <td>Trung Quốc</td>\n",
       "      <td>24 tháng</td>\n",
       "      <td>NaN</td>\n",
       "      <td>NaN</td>\n",
       "      <td>NaN</td>\n",
       "    </tr>\n",
       "    <tr>\n",
       "      <th>1</th>\n",
       "      <td>LOBINNI</td>\n",
       "      <td>5,480,000 VNĐ</td>\n",
       "      <td>L17511-1</td>\n",
       "      <td>LOBINNI</td>\n",
       "      <td>Thụy Sỹ</td>\n",
       "      <td>Nam</td>\n",
       "      <td>Đồng hồ Automatic</td>\n",
       "      <td>42 mm</td>\n",
       "      <td>10 mm</td>\n",
       "      <td>Thép không gỉ 316L</td>\n",
       "      <td>Thép không gỉ 316L</td>\n",
       "      <td>Sapphire</td>\n",
       "      <td>5 ATM</td>\n",
       "      <td>Trung Quốc</td>\n",
       "      <td>24 tháng</td>\n",
       "      <td>NaN</td>\n",
       "      <td>NaN</td>\n",
       "      <td>NaN</td>\n",
       "    </tr>\n",
       "    <tr>\n",
       "      <th>2</th>\n",
       "      <td>LOBINNI</td>\n",
       "      <td>4,550,000 VNĐ</td>\n",
       "      <td>L12032-1</td>\n",
       "      <td>LOBINNI</td>\n",
       "      <td>Thụy Sỹ</td>\n",
       "      <td>Nam</td>\n",
       "      <td>Đồng hồ Automatic</td>\n",
       "      <td>39 mm</td>\n",
       "      <td>11 mm</td>\n",
       "      <td>Thép không gỉ 316L</td>\n",
       "      <td>Dây da cao cấp</td>\n",
       "      <td>Sapphire</td>\n",
       "      <td>5 ATM</td>\n",
       "      <td>Trung Quốc</td>\n",
       "      <td>24 tháng</td>\n",
       "      <td>NaN</td>\n",
       "      <td>NaN</td>\n",
       "      <td>NaN</td>\n",
       "    </tr>\n",
       "    <tr>\n",
       "      <th>3</th>\n",
       "      <td>LOBINNI</td>\n",
       "      <td>5,280,000 VNĐ</td>\n",
       "      <td>L9010-1</td>\n",
       "      <td>LOBINNI</td>\n",
       "      <td>Thụy Sỹ</td>\n",
       "      <td>Nam</td>\n",
       "      <td>Đồng hồ Automatic</td>\n",
       "      <td>42 mm</td>\n",
       "      <td>11 mm</td>\n",
       "      <td>Thép không gỉ 316L</td>\n",
       "      <td>Dây da cao cấp</td>\n",
       "      <td>Sapphire</td>\n",
       "      <td>5 ATM</td>\n",
       "      <td>Trung Quốc</td>\n",
       "      <td>24 tháng</td>\n",
       "      <td>NaN</td>\n",
       "      <td>NaN</td>\n",
       "      <td>NaN</td>\n",
       "    </tr>\n",
       "    <tr>\n",
       "      <th>4</th>\n",
       "      <td>LOBINNI</td>\n",
       "      <td>4,800,000 VNĐ</td>\n",
       "      <td>L16050-2</td>\n",
       "      <td>LOBINNI</td>\n",
       "      <td>Thụy Sỹ</td>\n",
       "      <td>Nam</td>\n",
       "      <td>Đồng hồ Automatic</td>\n",
       "      <td>41 mm</td>\n",
       "      <td>11 mm</td>\n",
       "      <td>Thép không gỉ 316L</td>\n",
       "      <td>Dây da cao cấp</td>\n",
       "      <td>Sapphire</td>\n",
       "      <td>5 ATM</td>\n",
       "      <td>Trung Quốc</td>\n",
       "      <td>24 tháng</td>\n",
       "      <td>NaN</td>\n",
       "      <td>NaN</td>\n",
       "      <td>NaN</td>\n",
       "    </tr>\n",
       "  </tbody>\n",
       "</table>\n",
       "</div>"
      ],
      "text/plain": [
       "  Tên sản phẩm       Giá tiền Mã sản phẩm Thương Hiệu Quốc gia đăng ký thương hiệu Giới tính           Loại sản phẩm Đường kính mặt Chiều dày        Chất liệu vỏ       Chất liệu dây Chất liệu mặt kính Độ chịu nước Nơi sản xuất  Bảo hành Kiểu máy Dành cho Mã sản phâm\n",
       "0      LOBINNI  5,150,000 VNĐ     L9222-1     LOBINNI                      Thụy Sỹ       Nam  Đồng hồ cơ (Automatic)          42 mm   11.5 mm  Thép không gỉ 316L      Dây da cao cấp           Sapphire        5 ATM   Trung Quốc  24 tháng      NaN      NaN         NaN\n",
       "1      LOBINNI  5,480,000 VNĐ    L17511-1     LOBINNI                      Thụy Sỹ       Nam       Đồng hồ Automatic          42 mm     10 mm  Thép không gỉ 316L  Thép không gỉ 316L           Sapphire        5 ATM   Trung Quốc  24 tháng      NaN      NaN         NaN\n",
       "2      LOBINNI  4,550,000 VNĐ    L12032-1     LOBINNI                      Thụy Sỹ       Nam       Đồng hồ Automatic          39 mm     11 mm  Thép không gỉ 316L      Dây da cao cấp           Sapphire        5 ATM   Trung Quốc  24 tháng      NaN      NaN         NaN\n",
       "3      LOBINNI  5,280,000 VNĐ     L9010-1     LOBINNI                      Thụy Sỹ       Nam       Đồng hồ Automatic          42 mm     11 mm  Thép không gỉ 316L      Dây da cao cấp           Sapphire        5 ATM   Trung Quốc  24 tháng      NaN      NaN         NaN\n",
       "4      LOBINNI  4,800,000 VNĐ    L16050-2     LOBINNI                      Thụy Sỹ       Nam       Đồng hồ Automatic          41 mm     11 mm  Thép không gỉ 316L      Dây da cao cấp           Sapphire        5 ATM   Trung Quốc  24 tháng      NaN      NaN         NaN"
      ]
     },
     "execution_count": 14,
     "metadata": {},
     "output_type": "execute_result"
    },
    {
     "name": "stdout",
     "output_type": "stream",
     "text": [
      "\n",
      "\u001b[94mWebsite: x_watch - Shape: (3723, 14)\n",
      "\n"
     ]
    },
    {
     "data": {
      "text/html": [
       "<div>\n",
       "<style scoped>\n",
       "    .dataframe tbody tr th:only-of-type {\n",
       "        vertical-align: middle;\n",
       "    }\n",
       "\n",
       "    .dataframe tbody tr th {\n",
       "        vertical-align: top;\n",
       "    }\n",
       "\n",
       "    .dataframe thead th {\n",
       "        text-align: right;\n",
       "    }\n",
       "</style>\n",
       "<table border=\"1\" class=\"dataframe\">\n",
       "  <thead>\n",
       "    <tr style=\"text-align: right;\">\n",
       "      <th></th>\n",
       "      <th>Giá tiền</th>\n",
       "      <th>Mã sản phẩm</th>\n",
       "      <th>Nhãn hiệu</th>\n",
       "      <th>Nguồn gốc</th>\n",
       "      <th>Kiểu máy</th>\n",
       "      <th>Kích cỡ</th>\n",
       "      <th>Chất liệu vỏ</th>\n",
       "      <th>Chất liệu dây</th>\n",
       "      <th>Chất liệu kính</th>\n",
       "      <th>Độ chịu nước</th>\n",
       "      <th>Chức năng khác</th>\n",
       "      <th>Bảo hiểm</th>\n",
       "      <th>Bảo hành quốc tế</th>\n",
       "      <th>Giới tính</th>\n",
       "    </tr>\n",
       "  </thead>\n",
       "  <tbody>\n",
       "    <tr>\n",
       "      <th>0</th>\n",
       "      <td>14.940.000</td>\n",
       "      <td>SRPD07J1</td>\n",
       "      <td>Seiko</td>\n",
       "      <td>Nhật Bản</td>\n",
       "      <td>Automatic</td>\n",
       "      <td>37 mm</td>\n",
       "      <td>Thép không gỉ 316L</td>\n",
       "      <td>Dây da</td>\n",
       "      <td>Kính Sapphire</td>\n",
       "      <td>30 m</td>\n",
       "      <td>Lịch ngày</td>\n",
       "      <td>5 năm cả lỗi người dùng tại Xwatch</td>\n",
       "      <td>1 năm</td>\n",
       "      <td>Nam</td>\n",
       "    </tr>\n",
       "    <tr>\n",
       "      <th>1</th>\n",
       "      <td>5.670.000</td>\n",
       "      <td>BM6960-56E</td>\n",
       "      <td>Citizen</td>\n",
       "      <td>Nhật Bản</td>\n",
       "      <td>Eco-Drive</td>\n",
       "      <td>42 mm</td>\n",
       "      <td>Thép không gỉ 316L</td>\n",
       "      <td>Thép không gỉ 316L</td>\n",
       "      <td>Kính cứng</td>\n",
       "      <td>50m</td>\n",
       "      <td>Lịch ngày</td>\n",
       "      <td>5 năm cả lỗi người dùng tại Xwatch</td>\n",
       "      <td>1 năm</td>\n",
       "      <td>Nam</td>\n",
       "    </tr>\n",
       "    <tr>\n",
       "      <th>2</th>\n",
       "      <td>2.080.000</td>\n",
       "      <td>F.7.1052.01</td>\n",
       "      <td>Freelook</td>\n",
       "      <td>Pháp</td>\n",
       "      <td>Quartz (Pin)</td>\n",
       "      <td>NaN</td>\n",
       "      <td>Thép không gỉ 316L</td>\n",
       "      <td>Thép không gỉ</td>\n",
       "      <td>Kính Cứng</td>\n",
       "      <td>30m</td>\n",
       "      <td>NaN</td>\n",
       "      <td>5 năm cả lỗi người dùng tại Xwatch</td>\n",
       "      <td>2 năm</td>\n",
       "      <td>Nữ</td>\n",
       "    </tr>\n",
       "    <tr>\n",
       "      <th>3</th>\n",
       "      <td>3.230.000</td>\n",
       "      <td>OP89322GSK-V</td>\n",
       "      <td>Olym Pianus</td>\n",
       "      <td>Nhật Bản</td>\n",
       "      <td>Quartz (Pin)</td>\n",
       "      <td>40 mm</td>\n",
       "      <td>Thép không gỉ 316L/ Mạ vàng PVD</td>\n",
       "      <td>Thép không gỉ 316L</td>\n",
       "      <td>Kính Sapphire</td>\n",
       "      <td>30 m</td>\n",
       "      <td>Lịch ngày</td>\n",
       "      <td>5 năm cả lỗi người dùng tại Xwatch</td>\n",
       "      <td>2 năm</td>\n",
       "      <td>Nam</td>\n",
       "    </tr>\n",
       "    <tr>\n",
       "      <th>4</th>\n",
       "      <td>3.890.000</td>\n",
       "      <td>BF2024-50L</td>\n",
       "      <td>Citizen</td>\n",
       "      <td>Nhật Bản</td>\n",
       "      <td>Quartz (Pin)</td>\n",
       "      <td>41 mm</td>\n",
       "      <td>Thép không gỉ 316L</td>\n",
       "      <td>Thép không gỉ</td>\n",
       "      <td>Kính cứng</td>\n",
       "      <td>50 m</td>\n",
       "      <td>Lịch ngày, lịch thứ</td>\n",
       "      <td>5 năm cả lỗi người dùng tại Xwatch</td>\n",
       "      <td>1 năm</td>\n",
       "      <td>Nam</td>\n",
       "    </tr>\n",
       "  </tbody>\n",
       "</table>\n",
       "</div>"
      ],
      "text/plain": [
       "     Giá tiền   Mã sản phẩm    Nhãn hiệu Nguồn gốc      Kiểu máy Kích cỡ                     Chất liệu vỏ       Chất liệu dây Chất liệu kính Độ chịu nước       Chức năng khác                            Bảo hiểm Bảo hành quốc tế Giới tính\n",
       "0  14.940.000      SRPD07J1        Seiko  Nhật Bản     Automatic   37 mm               Thép không gỉ 316L              Dây da  Kính Sapphire         30 m            Lịch ngày  5 năm cả lỗi người dùng tại Xwatch            1 năm       Nam\n",
       "1   5.670.000    BM6960-56E      Citizen  Nhật Bản     Eco-Drive   42 mm               Thép không gỉ 316L  Thép không gỉ 316L      Kính cứng          50m            Lịch ngày  5 năm cả lỗi người dùng tại Xwatch            1 năm       Nam\n",
       "2   2.080.000   F.7.1052.01     Freelook      Pháp  Quartz (Pin)     NaN               Thép không gỉ 316L       Thép không gỉ      Kính Cứng          30m                  NaN  5 năm cả lỗi người dùng tại Xwatch            2 năm        Nữ\n",
       "3   3.230.000  OP89322GSK-V  Olym Pianus  Nhật Bản  Quartz (Pin)   40 mm  Thép không gỉ 316L/ Mạ vàng PVD  Thép không gỉ 316L  Kính Sapphire         30 m            Lịch ngày  5 năm cả lỗi người dùng tại Xwatch            2 năm       Nam\n",
       "4   3.890.000    BF2024-50L      Citizen  Nhật Bản  Quartz (Pin)   41 mm               Thép không gỉ 316L       Thép không gỉ      Kính cứng         50 m  Lịch ngày, lịch thứ  5 năm cả lỗi người dùng tại Xwatch            1 năm       Nam"
      ]
     },
     "execution_count": 14,
     "metadata": {},
     "output_type": "execute_result"
    },
    {
     "name": "stdout",
     "output_type": "stream",
     "text": [
      "\n",
      "\u001b[94mWebsite: hai_trieu - Shape: (2488, 18)\n",
      "\n"
     ]
    },
    {
     "data": {
      "text/html": [
       "<div>\n",
       "<style scoped>\n",
       "    .dataframe tbody tr th:only-of-type {\n",
       "        vertical-align: middle;\n",
       "    }\n",
       "\n",
       "    .dataframe tbody tr th {\n",
       "        vertical-align: top;\n",
       "    }\n",
       "\n",
       "    .dataframe thead th {\n",
       "        text-align: right;\n",
       "    }\n",
       "</style>\n",
       "<table border=\"1\" class=\"dataframe\">\n",
       "  <thead>\n",
       "    <tr style=\"text-align: right;\">\n",
       "      <th></th>\n",
       "      <th>Tên sản phẩm</th>\n",
       "      <th>Giá tiền</th>\n",
       "      <th>thương hiệu</th>\n",
       "      <th>số hiệu sản phẩm</th>\n",
       "      <th>xuất xứ</th>\n",
       "      <th>giới tính</th>\n",
       "      <th>kính</th>\n",
       "      <th>máy</th>\n",
       "      <th>bảo hành quốc tế</th>\n",
       "      <th>bảo hành tại hải triều</th>\n",
       "      <th>đường kính mặt số</th>\n",
       "      <th>bề dày mặt số</th>\n",
       "      <th>niềng</th>\n",
       "      <th>dây đeo</th>\n",
       "      <th>màu mặt số</th>\n",
       "      <th>chống nước</th>\n",
       "      <th>chức năng</th>\n",
       "      <th>nơi sản xuất</th>\n",
       "    </tr>\n",
       "  </thead>\n",
       "  <tbody>\n",
       "    <tr>\n",
       "      <th>0</th>\n",
       "      <td>Tissot</td>\n",
       "      <td>12.250.000</td>\n",
       "      <td>Tissot</td>\n",
       "      <td>T063.209.11.038.00</td>\n",
       "      <td>Thụy Sỹ</td>\n",
       "      <td>Nữ</td>\n",
       "      <td>Sapphire (Kính Chống Trầy)</td>\n",
       "      <td>Quartz (Pin)</td>\n",
       "      <td>2 Năm</td>\n",
       "      <td>4 Năm – RED Guarantee</td>\n",
       "      <td>31 mm</td>\n",
       "      <td>5.2 mm</td>\n",
       "      <td>Thép Không Gỉ</td>\n",
       "      <td>Thép Không Gỉ</td>\n",
       "      <td>Trắng</td>\n",
       "      <td>3 ATM</td>\n",
       "      <td>NaN</td>\n",
       "      <td>Thụy Sỹ</td>\n",
       "    </tr>\n",
       "    <tr>\n",
       "      <th>1</th>\n",
       "      <td>Bulova</td>\n",
       "      <td>8.500.000</td>\n",
       "      <td>Bulova</td>\n",
       "      <td>96P198</td>\n",
       "      <td>Thụy Sỹ / Mỹ</td>\n",
       "      <td>Nữ</td>\n",
       "      <td>Sapphire (Kính Chống Trầy)</td>\n",
       "      <td>Quartz (Pin)</td>\n",
       "      <td>3 Năm</td>\n",
       "      <td>4 Năm – RED Guarantee</td>\n",
       "      <td>32 mm</td>\n",
       "      <td>8 mm</td>\n",
       "      <td>Thép Không Gỉ</td>\n",
       "      <td>Thép Không Gỉ</td>\n",
       "      <td>Xanh Đen</td>\n",
       "      <td>3 ATM</td>\n",
       "      <td>NaN</td>\n",
       "      <td>Thụy Sỹ</td>\n",
       "    </tr>\n",
       "    <tr>\n",
       "      <th>2</th>\n",
       "      <td>Casio</td>\n",
       "      <td>1.633.000</td>\n",
       "      <td>Casio</td>\n",
       "      <td>A100WE-7BDF</td>\n",
       "      <td>Nhật Bản</td>\n",
       "      <td>Nam</td>\n",
       "      <td>Resin Glass (Kính Nhựa)</td>\n",
       "      <td>Quartz (Pin)</td>\n",
       "      <td>1 Năm</td>\n",
       "      <td>NaN</td>\n",
       "      <td>40.7 mm x 32.7 mm</td>\n",
       "      <td>9.2 mm</td>\n",
       "      <td>NaN</td>\n",
       "      <td>NaN</td>\n",
       "      <td>Đen</td>\n",
       "      <td>3 ATM</td>\n",
       "      <td>Lịch – Bộ Bấm Giờ – Giờ Kép – Vài Chức Năng Khác</td>\n",
       "      <td>Trung Quốc</td>\n",
       "    </tr>\n",
       "    <tr>\n",
       "      <th>3</th>\n",
       "      <td>Casio</td>\n",
       "      <td>3.529.000</td>\n",
       "      <td>Casio</td>\n",
       "      <td>EFV-540D-1AVUDF</td>\n",
       "      <td>Nhật Bản</td>\n",
       "      <td>Nam</td>\n",
       "      <td>Mineral Crystal (Kính Cứng)</td>\n",
       "      <td>Quartz (Pin)</td>\n",
       "      <td>1 Năm</td>\n",
       "      <td>NaN</td>\n",
       "      <td>43.8 mm</td>\n",
       "      <td>12.1 mm</td>\n",
       "      <td>NaN</td>\n",
       "      <td>NaN</td>\n",
       "      <td>Đen</td>\n",
       "      <td>10 ATM</td>\n",
       "      <td>Lịch Ngày – Chronograph</td>\n",
       "      <td>Trung Quốc</td>\n",
       "    </tr>\n",
       "    <tr>\n",
       "      <th>4</th>\n",
       "      <td>Casio</td>\n",
       "      <td>803.000</td>\n",
       "      <td>Casio</td>\n",
       "      <td>W-218HC-4A2VDF</td>\n",
       "      <td>Nhật Bản</td>\n",
       "      <td>Nữ</td>\n",
       "      <td>Resin Glass (Kính Nhựa)</td>\n",
       "      <td>Quartz (Pin)</td>\n",
       "      <td>1 Năm</td>\n",
       "      <td>NaN</td>\n",
       "      <td>44.4 mm x 43.2 mm</td>\n",
       "      <td>11 mm</td>\n",
       "      <td>Nhựa</td>\n",
       "      <td>Dây Cao Su</td>\n",
       "      <td>Trắng</td>\n",
       "      <td>5 ATM</td>\n",
       "      <td>Lịch – Bộ Bấm Giờ – Giờ Kép – Đèn Led – Vài Ch...</td>\n",
       "      <td>Trung Quốc</td>\n",
       "    </tr>\n",
       "  </tbody>\n",
       "</table>\n",
       "</div>"
      ],
      "text/plain": [
       "  Tên sản phẩm    Giá tiền thương hiệu    số hiệu sản phẩm       xuất xứ giới tính                         kính           máy bảo hành quốc tế bảo hành tại hải triều  đường kính mặt số bề dày mặt số          niềng        dây đeo màu mặt số chống nước                                          chức năng nơi sản xuất\n",
       "0       Tissot  12.250.000      Tissot  T063.209.11.038.00       Thụy Sỹ        Nữ   Sapphire (Kính Chống Trầy)  Quartz (Pin)            2 Năm  4 Năm – RED Guarantee              31 mm        5.2 mm  Thép Không Gỉ  Thép Không Gỉ      Trắng      3 ATM                                                NaN      Thụy Sỹ\n",
       "1       Bulova   8.500.000      Bulova              96P198  Thụy Sỹ / Mỹ        Nữ   Sapphire (Kính Chống Trầy)  Quartz (Pin)            3 Năm  4 Năm – RED Guarantee              32 mm          8 mm  Thép Không Gỉ  Thép Không Gỉ   Xanh Đen      3 ATM                                                NaN      Thụy Sỹ\n",
       "2        Casio   1.633.000       Casio         A100WE-7BDF      Nhật Bản       Nam      Resin Glass (Kính Nhựa)  Quartz (Pin)            1 Năm                    NaN  40.7 mm x 32.7 mm        9.2 mm            NaN            NaN        Đen      3 ATM   Lịch – Bộ Bấm Giờ – Giờ Kép – Vài Chức Năng Khác   Trung Quốc\n",
       "3        Casio   3.529.000       Casio     EFV-540D-1AVUDF      Nhật Bản       Nam  Mineral Crystal (Kính Cứng)  Quartz (Pin)            1 Năm                    NaN            43.8 mm       12.1 mm            NaN            NaN        Đen     10 ATM                            Lịch Ngày – Chronograph   Trung Quốc\n",
       "4        Casio     803.000       Casio      W-218HC-4A2VDF      Nhật Bản        Nữ      Resin Glass (Kính Nhựa)  Quartz (Pin)            1 Năm                    NaN  44.4 mm x 43.2 mm         11 mm           Nhựa     Dây Cao Su      Trắng      5 ATM  Lịch – Bộ Bấm Giờ – Giờ Kép – Đèn Led – Vài Ch...   Trung Quốc"
      ]
     },
     "execution_count": 14,
     "metadata": {},
     "output_type": "execute_result"
    },
    {
     "name": "stdout",
     "output_type": "stream",
     "text": [
      "\n"
     ]
    }
   ],
   "source": [
    "for key, item in dict_raw_data.items():\n",
    "    # xem hình dạng\n",
    "    print(f\"\\033[94mWebsite: {key} - Shape: {item.shape}\\n\")\n",
    "    item.head()\n",
    "    print()\n"
   ]
  },
  {
   "attachments": {},
   "cell_type": "markdown",
   "metadata": {},
   "source": [
    "### **3. Xử lý cùng chung định dạng cột cho các trang**\n"
   ]
  },
  {
   "cell_type": "code",
   "execution_count": 15,
   "metadata": {},
   "outputs": [],
   "source": [
    "for key, item in dict_raw_data.items():\n",
    "    item.dropna(thresh=3, inplace=True)\n",
    "\n",
    "dict_raw_data[\"the_gioi_dong_ho\"].drop(columns=[\"Kiểu máy\"], inplace=True)\n",
    "\n",
    "dict_raw_data[\"duy_anh\"][\"Thương hiệu\"] = dict_raw_data[\"duy_anh\"][\"Thương hiệu\"].apply(\n",
    "    lambda x: str(x).title()\n",
    ")\n",
    "\n",
    "dict_raw_data[\"the_gioi_dong_ho\"][\"Thương Hiệu\"] = dict_raw_data[\"the_gioi_dong_ho\"][\n",
    "    \"Thương Hiệu\"\n",
    "].apply(lambda x: str(x).title())"
   ]
  },
  {
   "cell_type": "code",
   "execution_count": 16,
   "metadata": {},
   "outputs": [],
   "source": [
    "df_watch = pd.concat([df for df in dict_raw_data.values()])\n"
   ]
  },
  {
   "cell_type": "code",
   "execution_count": 17,
   "metadata": {},
   "outputs": [
    {
     "name": "stdout",
     "output_type": "stream",
     "text": [
      "     Mã sản phẩm       Thương hiệu     Giá tiền Đường kính mặt Chống nước   Chất liệu mặt Năng lượng sử dụng Size dây      Chất liệu dây   Chất liệu vỏ    Kiểu dáng Xuất xứ          Chế độ bảo hành giới tính kiểu dáng loại máy phong cách mặt kính đường kính chất liệu vỏ độ dày chất liệu dây độ chịu nước tính năng khác bảo hành chính hãng màu mặt xuất xứ thương hiệu bảo hành duy anh Tên sản phẩm Thương Hiệu Quốc gia đăng ký thương hiệu Giới tính Loại sản phẩm Chiều dày Chất liệu mặt kính Độ chịu nước Nơi sản xuất Bảo hành Dành cho Mã sản phâm Nhãn hiệu Nguồn gốc Kiểu máy Kích cỡ Chất liệu kính Chức năng khác Bảo hiểm Bảo hành quốc tế          thương hiệu số hiệu sản phẩm    xuất xứ                         kính                               máy bảo hành quốc tế bảo hành tại hải triều đường kính mặt số bề dày mặt số          niềng        dây đeo màu mặt số chống nước  chức năng nơi sản xuất\n",
      "0        PA5018H  Philippe Auguste   4.581.000đ          42 mm      5 ATM  Tráng Sapphire         Quartz/Pin    21 mm  Dây da chính hãng  Thép không gỉ  Đồng hồ Nam   China  Bảo hành quốc tế 02 năm       NaN       NaN      NaN        NaN      NaN        NaN          NaN    NaN           NaN          NaN            NaN                 NaN     NaN                 NaN              NaN          NaN         NaN                          NaN       NaN           NaN       NaN                NaN          NaN          NaN      NaN      NaN         NaN       NaN       NaN      NaN     NaN            NaN            NaN      NaN              NaN                  NaN              NaN        NaN                          NaN                               NaN              NaN                    NaN               NaN           NaN            NaN            NaN        NaN        NaN        NaN          NaN\n",
      "1        PA5018G  Philippe Auguste   4.581.000đ          42 mm      5 ATM  Tráng Sapphire         Quartz/Pin    21 mm  Dây da chính hãng  Thép không gỉ  Đồng hồ Nam   China  Bảo hành quốc tế 02 năm       NaN       NaN      NaN        NaN      NaN        NaN          NaN    NaN           NaN          NaN            NaN                 NaN     NaN                 NaN              NaN          NaN         NaN                          NaN       NaN           NaN       NaN                NaN          NaN          NaN      NaN      NaN         NaN       NaN       NaN      NaN     NaN            NaN            NaN      NaN              NaN                  NaN              NaN        NaN                          NaN                               NaN              NaN                    NaN               NaN           NaN            NaN            NaN        NaN        NaN        NaN          NaN\n",
      "2         PA2022  Philippe Auguste  10.710.000đ          40 mm      5 ATM  Tráng Sapphire         Quartz/Pin    20 mm  Dây da chính hãng  Thép không gỉ  Đồng hồ Nam   China  Bảo hành quốc tế 02 năm       NaN       NaN      NaN        NaN      NaN        NaN          NaN    NaN           NaN          NaN            NaN                 NaN     NaN                 NaN              NaN          NaN         NaN                          NaN       NaN           NaN       NaN                NaN          NaN          NaN      NaN      NaN         NaN       NaN       NaN      NaN     NaN            NaN            NaN      NaN              NaN                  NaN              NaN        NaN                          NaN                               NaN              NaN                    NaN               NaN           NaN            NaN            NaN        NaN        NaN        NaN          NaN\n",
      "3        PA5021B  Philippe Auguste   5.379.300đ          42 mm     10 ATM  Tráng Sapphire         Quartz/Pin    21 mm  Dây da chính hãng  Thép không gỉ  Đồng hồ Nam   China  Bảo hành quốc tế 02 năm       NaN       NaN      NaN        NaN      NaN        NaN          NaN    NaN           NaN          NaN            NaN                 NaN     NaN                 NaN              NaN          NaN         NaN                          NaN       NaN           NaN       NaN                NaN          NaN          NaN      NaN      NaN         NaN       NaN       NaN      NaN     NaN            NaN            NaN      NaN              NaN                  NaN              NaN        NaN                          NaN                               NaN              NaN                    NaN               NaN           NaN            NaN            NaN        NaN        NaN        NaN          NaN\n",
      "4        PA5021H  Philippe Auguste   5.990.400đ          42 mm     10 ATM  Tráng Sapphire         Quartz/Pin    21 mm  Dây da chính hãng  Thép không gỉ  Đồng hồ Nam   China  Bảo hành quốc tế 02 năm       NaN       NaN      NaN        NaN      NaN        NaN          NaN    NaN           NaN          NaN            NaN                 NaN     NaN                 NaN              NaN          NaN         NaN                          NaN       NaN           NaN       NaN                NaN          NaN          NaN      NaN      NaN         NaN       NaN       NaN      NaN     NaN            NaN            NaN      NaN              NaN                  NaN              NaN        NaN                          NaN                               NaN              NaN                    NaN               NaN           NaN            NaN            NaN        NaN        NaN        NaN          NaN\n",
      "...          ...               ...          ...            ...        ...             ...                ...      ...                ...            ...          ...     ...                      ...       ...       ...      ...        ...      ...        ...          ...    ...           ...          ...            ...                 ...     ...                 ...              ...          ...         ...                          ...       ...           ...       ...                ...          ...          ...      ...      ...         ...       ...       ...      ...     ...            ...            ...      ...              ...                  ...              ...        ...                          ...                               ...              ...                    ...               ...           ...            ...            ...        ...        ...        ...          ...\n",
      "2483         NaN               NaN   58.510.000            NaN        NaN             NaN                NaN      NaN                NaN            NaN          NaN     NaN                      NaN       Nam       NaN      NaN        NaN      NaN        NaN          NaN    NaN           NaN          NaN            NaN                 NaN     NaN                 NaN              NaN   Frederique         NaN                          NaN       NaN           NaN       NaN                NaN          NaN          NaN      NaN      NaN         NaN       NaN       NaN      NaN     NaN            NaN            NaN      NaN              NaN  Frederique Constant      FC-306G4S6B    Thụy Sỹ   Sapphire (Kính Chống Trầy)  Quartz (Pin)/Automatic (Tự Động)            2 Năm  4 Năm – RED Guarantee             40 mm          8 mm  Thép Không Gỉ  Thép Không Gỉ        Đen      3 ATM  Lịch Ngày      Thụy Sỹ\n",
      "2484         NaN               NaN    6.170.000            NaN        NaN             NaN                NaN      NaN                NaN            NaN          NaN     NaN                      NaN        Nữ       NaN      NaN        NaN      NaN        NaN          NaN    NaN           NaN          NaN            NaN                 NaN     NaN                 NaN              NaN        Seiko         NaN                          NaN       NaN           NaN       NaN                NaN          NaN          NaN      NaN      NaN         NaN       NaN       NaN      NaN     NaN            NaN            NaN      NaN              NaN                Seiko         SUR463P1   Nhật Bản   Sapphire (Kính Chống Trầy)                      Quartz (Pin)            1 Năm                  5 Năm           29.8 mm        8.3 mm  Thép Không Gỉ  Thép Không Gỉ      Trắng     10 ATM  Lịch Ngày          NaN\n",
      "2485         NaN               NaN    4.940.000            NaN        NaN             NaN                NaN      NaN                NaN            NaN          NaN     NaN                      NaN        Nữ       NaN      NaN        NaN      NaN        NaN          NaN    NaN           NaN          NaN            NaN                 NaN     NaN                 NaN              NaN       Daniel         NaN                          NaN       NaN           NaN       NaN                NaN          NaN          NaN      NaN      NaN         NaN       NaN       NaN      NaN     NaN            NaN            NaN      NaN              NaN    Daniel Wellington       DW00100437  Thụy Điển  Mineral Crystal (Kính Cứng)                      Quartz (Pin)            2 Năm                  5 Năm     20 mm x 26 mm          6 mm  Thép Không Gỉ  Thép Không Gỉ       Xanh      3 ATM        NaN   Trung Quốc\n",
      "2486         NaN               NaN    3.470.000            NaN        NaN             NaN                NaN      NaN                NaN            NaN          NaN     NaN                      NaN        Nữ       NaN      NaN        NaN      NaN        NaN          NaN    NaN           NaN          NaN            NaN                 NaN     NaN                 NaN              NaN      Citizen         NaN                          NaN       NaN           NaN       NaN                NaN          NaN          NaN      NaN      NaN         NaN       NaN       NaN      NaN     NaN            NaN            NaN      NaN              NaN              Citizen       EV0052-50E   Nhật Bản  Mineral Crystal (Kính Cứng)                      Quartz (Pin)            1 Năm                  5 Năm             35 mm          9 mm  Thép Không Gỉ  Thép Không Gỉ        Đen      3 ATM  Lịch Ngày   Trung Quốc\n",
      "2487         NaN               NaN   10.120.000            NaN        NaN             NaN                NaN      NaN                NaN            NaN          NaN     NaN                      NaN        Nữ       NaN      NaN        NaN      NaN        NaN          NaN    NaN           NaN          NaN            NaN                 NaN     NaN                 NaN              NaN        Seiko         NaN                          NaN       NaN           NaN       NaN                NaN          NaN          NaN      NaN      NaN         NaN       NaN       NaN      NaN     NaN            NaN            NaN      NaN              NaN                Seiko         SKK886P1   Nhật Bản   Sapphire (Kính Chống Trầy)                      Quartz (Pin)            1 Năm                  5 Năm             33 mm          8 mm  Thép Không Gỉ  Thép Không Gỉ      Trắng     10 ATM  Lịch Ngày          NaN\n",
      "\n",
      "[14109 rows x 63 columns]\n"
     ]
    }
   ],
   "source": [
    "print(df_watch)"
   ]
  },
  {
   "cell_type": "code",
   "execution_count": 18,
   "metadata": {},
   "outputs": [],
   "source": [
    "class PreprocessingWatch:\n",
    "    @abstractmethod\n",
    "    def checkSubInString(lst, x):\n",
    "        return any(s in x for s in lst)\n",
    "\n",
    "    @abstractmethod\n",
    "    def processRenameCol(df):\n",
    "        dict_rename_col = {\n",
    "            \"Giá tiền\": \"Giá tiền (VNĐ)\",\n",
    "            \"Kích cỡ\": \"Kích cỡ (mm)\",\n",
    "            \"Độ chịu nước\": \"Độ chịu nước (ATM)\",\n",
    "        }\n",
    "\n",
    "        df = df.rename(columns=dict_rename_col)\n",
    "\n",
    "        return df\n",
    "\n",
    "    @abstractmethod\n",
    "    def dropColNotEssential(lst_col, df):\n",
    "        df = df.drop(columns=lst_col)\n",
    "\n",
    "        return df\n",
    "\n",
    "    @abstractmethod\n",
    "    def processPriceCol(x):\n",
    "        x = str(x)\n",
    "        \n",
    "        if x =='nan':\n",
    "            return None\n",
    "        if \"đ\" in x:\n",
    "            x = x[:-1].replace(\".\", \"\")\n",
    "        elif \"VNĐ\" in x:\n",
    "            x = x.replace(\",\", \"\").split()[0]\n",
    "\n",
    "        if \".\" in x:\n",
    "            x = x.replace(\".\", \"\")\n",
    "\n",
    "        if \"-20%\" in x:\n",
    "            x = x.replace(\"-20%\", \"\")\n",
    "\n",
    "        return x\n",
    "\n",
    "    @abstractmethod\n",
    "    def preprocessNumericValue(df):\n",
    "        df = df[df[\"Giá tiền\"].isin([\"Liên hệ\"]) == False]\n",
    "\n",
    "        df[\"Giá tiền\"] = df[\"Giá tiền\"].apply(PreprocessingWatch.processPriceCol)\n",
    "\n",
    "        return df\n",
    "\n",
    "    @abstractmethod\n",
    "    def processUniqueColBrand(x):\n",
    "        x = str(x)\n",
    "        \n",
    "        if x =='nan':\n",
    "            return None\n",
    "        \n",
    "        if PreprocessingWatch.checkSubInString((\"AG\", \"Aries Gold\", \"G7016\"), x):\n",
    "            x = \"Aries Gold\"\n",
    "        elif \"Q&Q\" in x:\n",
    "            x = \"Q&Q Citizen\"\n",
    "        elif \"Atlantic Swiss\" in x:\n",
    "            x = \"Atlantic Swiss\"\n",
    "        elif \"casio\" in x.lower():\n",
    "            x = \"Casio\"\n",
    "        elif PreprocessingWatch.checkSubInString((\"Jacques Lemans\", \"JL\"), x):\n",
    "            x = \"Jacques Lemans\"\n",
    "        elif PreprocessingWatch.checkSubInString((\"Philippe Auguste\", \"PA\"), x):\n",
    "            x = \"Philippe Auguste\"\n",
    "        elif \"Epos Swiss\" in x:\n",
    "            x = \"Epos Swiss\"\n",
    "        elif \"Olympia Star\" in x:\n",
    "            x = \"Olympia Star\"\n",
    "        elif \"Stuhrling\" in x:\n",
    "            x = \"Stuhrling\"\n",
    "        elif \"citizen\" in x.lower():\n",
    "            x = \"Citizen\"\n",
    "        elif \"seiko\" in x.lower():\n",
    "            x = \"Seiko\"\n",
    "        elif \"doxa\" in x.lower():\n",
    "            x = \"Doxa\"\n",
    "        elif \"orient\" in x.lower():\n",
    "            x = \"Orient\"\n",
    "        elif \"Frederique Constant\" in x:\n",
    "            x = \"Frederique Constant\"\n",
    "        elif \"Fossil\" in x:\n",
    "            x = \"Fossil\"\n",
    "        elif \"SR\" in x:\n",
    "            x = \"Stefano Ricci\"\n",
    "        return x\n",
    "\n",
    "    @abstractmethod\n",
    "    def changeMaterialRope(x):\n",
    "        x = str(x)\n",
    "        \n",
    "        if x =='nan':\n",
    "            return None\n",
    "\n",
    "        if \"da\" in x.lower():\n",
    "            x = \"Dây da\"\n",
    "        elif PreprocessingWatch.checkSubInString((\"cao su\", \"cao cu\"), x.lower()):\n",
    "            x = \"Dây cao su\"\n",
    "        elif \"vải\" in x.lower():\n",
    "            x = \"Dây vải\"\n",
    "        elif \"ceramic\" in x.lower():\n",
    "            x = \"Gốm ceramic\"\n",
    "        elif \"dù\" in x.lower():\n",
    "            x = \"Dây dù\"\n",
    "        elif PreprocessingWatch.checkSubInString((\"Hợp kim\", \"Titanium\"), x):\n",
    "            x = \"Hợp kim Titanium\"\n",
    "        elif \"Silicon\" in x:\n",
    "            x = \"Dây silicon\"\n",
    "        elif \"Vàng\" in x:\n",
    "            x = \"Dây vàng\"\n",
    "        elif \"kim loại\" in x.lower():\n",
    "            x = \"Dây kim loại\"\n",
    "        elif \"nhựa\" in x.lower():\n",
    "            x = \"Dây nhựa\"\n",
    "        elif \"Satin\" in x:\n",
    "            x = \"Dây satin\"\n",
    "        elif PreprocessingWatch.checkSubInString((\"Sapphire\", \"Đá\"), x):\n",
    "            x = \"Dây đá\"\n",
    "        elif \"Nato\" in x:\n",
    "            x = \"Dây nato\"\n",
    "        elif PreprocessingWatch.checkSubInString(\n",
    "            (\"gỉ\", \"Stainless Steel\", \"rỉ\", \"Thép\"), x\n",
    "        ):\n",
    "            x = \"Thép không gỉ\"\n",
    "\n",
    "        return x\n",
    "\n",
    "    @abstractmethod\n",
    "    def changeOriginalWatch(x):\n",
    "        x = str(x)\n",
    "        \n",
    "        if x =='nan':\n",
    "            return None\n",
    "        \n",
    "        if PreprocessingWatch.checkSubInString(\n",
    "            (\"China\", \"hong kong\", \"HongKong\", \"Hong Kong\", \"Hồng Kông\"), x\n",
    "        ):\n",
    "            x = \"Trung Quốc\"\n",
    "        elif PreprocessingWatch.checkSubInString((\"Thuỵ Sỹ\", \"Thuỵ Sĩ\", \"Thụy Sỹ\"), x):\n",
    "            x = \"Thụy Sĩ\"\n",
    "        elif \"Mỹ\" in x or \"Hoa Kỳ\" in x:\n",
    "            x = \"Mỹ\"\n",
    "        elif \"Thuỵ Điển\" in x:\n",
    "            x = \"Thụy Điển\"\n",
    "        elif \"Nhật bản\" in x:\n",
    "            x = \"Nhật Bản\"\n",
    "        return x\n",
    "\n",
    "    @abstractmethod\n",
    "    def changeGenderWatch(x):\n",
    "        x = str(x)\n",
    "        \n",
    "        if x =='nan':\n",
    "            return None\n",
    "\n",
    "        if \"nam\" in x.lower():\n",
    "            x = \"Nam\"\n",
    "        elif \"nữ\" in x.lower():\n",
    "            x = \"Nữ\"\n",
    "\n",
    "        return x\n",
    "\n",
    "    @abstractmethod\n",
    "    def changeMaterialGlasses(x):\n",
    "        x = str(x)\n",
    "        \n",
    "        if x =='nan':\n",
    "            return None\n",
    "\n",
    "        if \"sap\" in x.lower() or \"hire\" in x.lower():\n",
    "            x = \"Kính sapphire\"\n",
    "        elif \"har\" in x.lower():\n",
    "            x = \"Kính hardlex\"\n",
    "        elif \"hesalite\" in x.lower():\n",
    "            x = \"Kính hesalite\"\n",
    "        elif PreprocessingWatch.checkSubInString(\n",
    "            (\"cứng\", \"khoáng\", \"mineral\", \"crystal \"), x.lower()\n",
    "        ):\n",
    "            x = \"Kính cứng\"\n",
    "        elif \"nhựa\" in x.lower():\n",
    "            x = \"Kính nhựa\"\n",
    "        elif \"lực\" in x.lower():\n",
    "            x = \"Kính cường lực\"\n",
    "        elif \"Kính Kính\" in x or \"lồi\" in x.lower():\n",
    "            x = \"Kính thường\"\n",
    "        elif \"Mica\" in x:\n",
    "            x = \"Kính mica\"\n",
    "\n",
    "        return x\n",
    "\n",
    "    @abstractmethod\n",
    "    def changeTypeWatch(x):\n",
    "        x = str(x)\n",
    "        if x =='nan':\n",
    "            return None\n",
    "\n",
    "        if \"tay\" in x or \"hand\" in x.lower():\n",
    "            x = \"Hand Winding\"\n",
    "        elif PreprocessingWatch.checkSubInString(\n",
    "            (\"quartz\", \"quatz\", \"quarzt\"), x.lower()\n",
    "        ):\n",
    "            x = \"Quartz\"\n",
    "        elif PreprocessingWatch.checkSubInString((\"Automatic\", \"Aotomatic\", \"cơ\"), x):\n",
    "            x = \"Automatic\"\n",
    "        elif \"Eco\" in x:\n",
    "            x = \"Eco-Drive\"\n",
    "        elif \"Solar\" in x:\n",
    "            x = \"Solar\"\n",
    "        elif \"Japan movement\" in x:\n",
    "            x = \"Japan movement\"\n",
    "        elif \"pin\" in x.lower():\n",
    "            x = \"Pin\"\n",
    "        elif \"kine\" in x.lower():\n",
    "            x = \"Kinentic\"\n",
    "\n",
    "        return x\n",
    "\n",
    "    @abstractmethod\n",
    "    def changeShellMaterial(x):\n",
    "        x = str(x)\n",
    "        \n",
    "        if x =='nan':\n",
    "            return None\n",
    "\n",
    "        if PreprocessingWatch.checkSubInString(\n",
    "            (\"gỉ\", \"Stainless Steel\", \"rỉ\", \"Thép\"), x\n",
    "        ):\n",
    "            x = \"Thép không gỉ\"\n",
    "        elif PreprocessingWatch.checkSubInString((\"Hợp kim\", \"Hợp\", \"Titanium\"), x):\n",
    "            x = \"Hợp kim Titanium\"\n",
    "        elif \"vàng\" in x.lower():\n",
    "            x = \"Vàng\"\n",
    "        elif \"nhựa\" in x.lower():\n",
    "            x = \"Nhựa\"\n",
    "        elif \"ceramic\" in x.lower():\n",
    "            x = \"Gốm ceramic\"\n",
    "        elif \"Bạc\" in x:\n",
    "            x = \"Bạc\"\n",
    "        elif \"đồng\" in x.lower():\n",
    "            x = \"Đồng\"\n",
    "        elif \"carbon\" in x.lower():\n",
    "            x = \"Carbon\"\n",
    "        elif \"thủy tinh\" in x.lower():\n",
    "            x = \"Thủy tinh\"\n",
    "\n",
    "        return x\n",
    "\n",
    "    @abstractmethod\n",
    "    def changeWaterResistance(x):\n",
    "        x = str(x)\n",
    "        \n",
    "        if x =='nan':\n",
    "            return None\n",
    "\n",
    "        lower_x = x.lower()\n",
    "\n",
    "        if \"100\" in x:\n",
    "            x = \"10\"\n",
    "        elif \"atm\" in lower_x:\n",
    "            x = lower_x.split(\"atm\")[0].strip()\n",
    "        elif \"bar\" in lower_x:\n",
    "            x = lower_x.split(\"bar\")[0].strip()\n",
    "        elif \"m\" in lower_x:\n",
    "            value = int(float(lower_x.split(\"m\")[0].strip()))\n",
    "            x = str(value / 10)\n",
    "\n",
    "        if x == \"nam 10\" or x == \"nam( 5\" or x == \"nam 5\":\n",
    "            x = x.split(\" \")[-1]\n",
    "\n",
    "        if \".0\" in x:\n",
    "            x = x.split(\".\")[0]\n",
    "\n",
    "        if x == \"0.8\":\n",
    "            x = \"3\"\n",
    "\n",
    "        if x == \"Đường\":\n",
    "            x = \"20\"\n",
    "\n",
    "        if x == \"×\":\n",
    "            x = x.split(\"×\")[0]\n",
    "\n",
    "        return x\n",
    "\n",
    "    @abstractmethod\n",
    "    def changeSizeWatch(x):\n",
    "        x = str(x).strip()\n",
    "        \n",
    "        if x == 'nan':\n",
    "            return None\n",
    "\n",
    "        if \"*\" in x:\n",
    "            x = x.split(\"*\")[0]\n",
    "\n",
    "        elif \"X\" in x:\n",
    "            x = x.split(\"X\")[0]\n",
    "\n",
    "        elif \"x\" in x:\n",
    "            x = x.split(\"x\")[0]\n",
    "\n",
    "        if \"m\" in x:\n",
    "            if \"mm\" in x:\n",
    "                if \" \" in x:\n",
    "                    x = x.replace(\"mm\", \"\").split()[0]\n",
    "                else:\n",
    "                    x = x.replace(\"mm\", \"\")\n",
    "            x = x.replace(\"m\", \"\")\n",
    "\n",
    "        if \"\\xa0\" in x:\n",
    "            x = x.replace(\"\\xa0\", \"\")\n",
    "\n",
    "        if \"Nam\" in x:\n",
    "            x = x.replace(\"Nam\", \"\")\n",
    "\n",
    "        if \"\\u2002×\" in x:\n",
    "            x = x.split(\"\\u2002×\")[0]\n",
    "\n",
    "        if \",\" in x:\n",
    "            if \".\" not in x:\n",
    "                x = x.replace(\",\", \".\")\n",
    "            else:\n",
    "                x = x.split('.')[0]\n",
    "\n",
    "        if \"-\" in x:\n",
    "            x = x.split(\"-\")[0]\n",
    "\n",
    "        return x\n",
    "\n",
    "    @abstractmethod\n",
    "    def processWarrantyWatch(x):\n",
    "        x = str(x).lower().strip()\n",
    "        \n",
    "        if x == 'nan':\n",
    "            return None\n",
    "\n",
    "        if \"bảo hành quốc tế\" in x:\n",
    "            x = int(x.split()[-2])\n",
    "        elif \"năm quốc tế\" in x:\n",
    "            try:\n",
    "                x = int(x.split()[0])\n",
    "            except:\n",
    "                x = x.replace(\"năm quốc tế\", \"\")\n",
    "        elif \"năm chính hãng\" in x:\n",
    "            x = x.replace(\"năm chính hãng\", \"\")\n",
    "\n",
    "        elif \"năm tiêu chuẩn\" in x:\n",
    "            x = x.split()[0]\n",
    "\n",
    "        elif \"năm\" in x:\n",
    "            x = x.split()[0]\n",
    "\n",
    "        elif \"tháng\" in x:\n",
    "            x = int(int(x.split()[0]) / 12)\n",
    "\n",
    "        elif \"trọn đời\" in x:\n",
    "            x = \"100\"\n",
    "\n",
    "        return x\n",
    "\n",
    "    @abstractmethod\n",
    "    def preprocessCategoryValue(df):\n",
    "        df[\"Thương hiệu\"] = df[\"Thương hiệu\"].apply(\n",
    "            PreprocessingWatch.processUniqueColBrand\n",
    "        )\n",
    "\n",
    "        df = df[df[\"Thương hiệu\"].isin([\"nan\", \"Đồng hồ nữ\", \"Nan\"]) == False]\n",
    "\n",
    "        df[\"Chất liệu dây\"] = df[\"Chất liệu dây\"].apply(\n",
    "            PreprocessingWatch.changeMaterialRope\n",
    "        )\n",
    "\n",
    "        df[\"Xuất xứ\"] = df[\"Xuất xứ\"].apply(PreprocessingWatch.changeOriginalWatch)\n",
    "\n",
    "        df = df[\n",
    "            df[\"Giới tính\"].isin(\n",
    "                [\n",
    "                    \"Đồng hồ trẻ em\",\n",
    "                    \"Unisex\",\n",
    "                    \"Đồng hồ đôi\",\n",
    "                    \"đồng hồ đôi\",\n",
    "                    \"Đồng hồ unisex\",\n",
    "                    \"unisex\",\n",
    "                ]\n",
    "            )\n",
    "            == False\n",
    "        ]\n",
    "\n",
    "        df[\"Giới tính\"] = df[\"Giới tính\"].apply(PreprocessingWatch.changeGenderWatch)\n",
    "\n",
    "        df[\"Chất liệu mặt kính\"] = df[\"Chất liệu mặt kính\"].apply(\n",
    "            PreprocessingWatch.changeMaterialGlasses\n",
    "        )\n",
    "\n",
    "        df = df[\n",
    "            df[\"Kiểu máy\"].isin(\n",
    "                [\"Trang sức\", \"Đồng hồ Tourbillon\", \"Swiss\", \"Đồng hồ điện tử\"]\n",
    "            )\n",
    "            == False\n",
    "        ]\n",
    "\n",
    "        df[\"Kiểu máy\"] = df[\"Kiểu máy\"].apply(PreprocessingWatch.changeTypeWatch)\n",
    "\n",
    "        df[\"Chất liệu vỏ\"] = df[\"Chất liệu vỏ\"].apply(\n",
    "            PreprocessingWatch.changeShellMaterial\n",
    "        )\n",
    "\n",
    "        df = df[df[\"Độ chịu nước\"].isin([\"Water Resistant\"]) == False]\n",
    "\n",
    "        df[\"Độ chịu nước\"] = df[\"Độ chịu nước\"].apply(\n",
    "            PreprocessingWatch.changeWaterResistance\n",
    "        )\n",
    "\n",
    "        df[\"Kích cỡ\"] = df[\"Kích cỡ\"].apply(PreprocessingWatch.changeSizeWatch)\n",
    "        \n",
    "        df = df[df[\"Kích cỡ\"].isin([\"Đường\", \"Na\"]) == False]\n",
    "        \n",
    "        df[\"Bảo hành\"] = df[\"Bảo hành\"].apply(PreprocessingWatch.processWarrantyWatch)\n",
    "\n",
    "        df[\"Bảo hành\"] = df[\"Bảo hành\"].apply(lambda x: str(x).strip())\n",
    "        \n",
    "        df = df[df[\"Bảo hành\"].isin(['thương hiệu thụy điển, máy nhật bản']) == False]\n",
    "\n",
    "        return df\n",
    "\n",
    "    @abstractmethod\n",
    "    def combineColumnDuplicate(first_col, lst_col, df):\n",
    "        for col in lst_col:\n",
    "            df[first_col] = df[first_col].combine_first(df[col])\n",
    "            df = df.drop(columns=[col])\n",
    "\n",
    "        return df\n",
    "\n",
    "    @abstractmethod\n",
    "    def combineColumnAll(df):\n",
    "        df = PreprocessingWatch.combineColumnDuplicate(\n",
    "            \"Giới tính\", [\"Dành cho\", \"giới tính\", \"Kiểu dáng\", \"kiểu dáng\"], df\n",
    "        )\n",
    "\n",
    "        df = PreprocessingWatch.combineColumnDuplicate(\n",
    "            \"Bảo hành\",\n",
    "            [\n",
    "                \"Bảo hành quốc tế\",\n",
    "                \"bảo hành chính hãng\",\n",
    "                \"Chế độ bảo hành\",\n",
    "                \"bảo hành quốc tế\",\n",
    "            ],\n",
    "            df,\n",
    "        )\n",
    "\n",
    "        df = PreprocessingWatch.combineColumnDuplicate(\n",
    "            \"Chất liệu dây\", [\"chất liệu dây\", \"dây đeo\"], df\n",
    "        )\n",
    "\n",
    "        df = PreprocessingWatch.combineColumnDuplicate(\n",
    "            \"Chất liệu mặt kính\",\n",
    "            [\"kính\", \"mặt kính\", \"Chất liệu mặt\", \"Chất liệu kính\"],\n",
    "            df,\n",
    "        )\n",
    "\n",
    "        df = PreprocessingWatch.combineColumnDuplicate(\n",
    "            \"Xuất xứ\",\n",
    "            [\n",
    "                \"Nguồn gốc\",\n",
    "                \"xuất xứ thương hiệu\",\n",
    "                \"Quốc gia đăng ký thương hiệu\",\n",
    "                \"xuất xứ\",\n",
    "            ],\n",
    "            df,\n",
    "        )\n",
    "\n",
    "        df = PreprocessingWatch.combineColumnDuplicate(\n",
    "            \"Độ chịu nước\", [\"Chống nước\", \"độ chịu nước\", \"chống nước\"], df\n",
    "        )\n",
    "\n",
    "        df = PreprocessingWatch.combineColumnDuplicate(\n",
    "            \"Kiểu máy\", [\"loại máy\", \"máy\", \"Năng lượng sử dụng\", \"Loại sản phẩm\"], df\n",
    "        )\n",
    "\n",
    "        df = PreprocessingWatch.combineColumnDuplicate(\n",
    "            \"Mã sản phẩm\", [\"Mã sản phâm\", \"số hiệu sản phẩm\"], df\n",
    "        )\n",
    "\n",
    "        df = PreprocessingWatch.combineColumnDuplicate(\n",
    "            \"Thương hiệu\", [\"Thương Hiệu\", \"Nhãn hiệu\", \"thương hiệu\"], df\n",
    "        )\n",
    "\n",
    "        df = PreprocessingWatch.combineColumnDuplicate(\n",
    "            \"Kích cỡ\", [\"Đường kính mặt\", \"đường kính\", \"đường kính mặt số\"], df\n",
    "        )\n",
    "\n",
    "        df = PreprocessingWatch.combineColumnDuplicate(\n",
    "            \"Chất liệu vỏ\", [\"niềng\", \"chất liệu vỏ\"], df\n",
    "        )\n",
    "\n",
    "        df = PreprocessingWatch.dropColNotEssential(\n",
    "            [\n",
    "                \"bảo hành tại hải triều\",\n",
    "                \"bảo hành duy anh\",\n",
    "                \"Bảo hiểm\",\n",
    "                \"Nơi sản xuất\",\n",
    "                \"nơi sản xuất\",\n",
    "                \"Tên sản phẩm\",\n",
    "                \"Size dây\",\n",
    "                \"Chiều dày\",\n",
    "                \"độ dày\",\n",
    "                \"bề dày mặt số\",\n",
    "                \"màu mặt số\",\n",
    "                \"màu mặt\",\n",
    "                \"Chức năng khác\",\n",
    "                \"chức năng\",\n",
    "                \"tính năng khác\",\n",
    "                \"phong cách\",\n",
    "            ],\n",
    "            df,\n",
    "        )\n",
    "\n",
    "        return df"
   ]
  },
  {
   "cell_type": "code",
   "execution_count": 19,
   "metadata": {},
   "outputs": [
    {
     "data": {
      "text/plain": [
       "(14109, 63)"
      ]
     },
     "execution_count": 19,
     "metadata": {},
     "output_type": "execute_result"
    }
   ],
   "source": [
    "df_watch.shape\n"
   ]
  },
  {
   "cell_type": "code",
   "execution_count": 20,
   "metadata": {},
   "outputs": [],
   "source": [
    "df_watch = PreprocessingWatch.combineColumnAll(df_watch)\n",
    "\n",
    "df_watch = PreprocessingWatch.preprocessNumericValue(df_watch)\n",
    "\n",
    "df_watch = PreprocessingWatch.preprocessCategoryValue(df_watch)\n",
    "\n",
    "df_watch = PreprocessingWatch.processRenameCol(df_watch)\n",
    "\n",
    "df_watch.to_csv(r\"../main/clean_data/clean_data.csv\")\n"
   ]
  },
  {
   "cell_type": "code",
   "execution_count": 21,
   "metadata": {},
   "outputs": [
    {
     "ename": "TypeError",
     "evalue": "'>=' not supported between instances of 'str' and 'NoneType'",
     "output_type": "error",
     "traceback": [
      "\u001b[1;31m---------------------------------------------------------------------------\u001b[0m",
      "\u001b[1;31mTypeError\u001b[0m                                 Traceback (most recent call last)",
      "Cell \u001b[1;32mIn[21], line 3\u001b[0m\n\u001b[0;32m      1\u001b[0m \u001b[39mimport\u001b[39;00m \u001b[39mnumpy\u001b[39;00m \u001b[39mas\u001b[39;00m \u001b[39mnp\u001b[39;00m\n\u001b[1;32m----> 3\u001b[0m max_size \u001b[39m=\u001b[39m np\u001b[39m.\u001b[39;49mnanmax(df_watch[\u001b[39m'\u001b[39;49m\u001b[39mKích cỡ (mm)\u001b[39;49m\u001b[39m'\u001b[39;49m]\u001b[39m.\u001b[39;49munique())\n\u001b[0;32m      4\u001b[0m \u001b[39mprint\u001b[39m(max_size)\n",
      "File \u001b[1;32m<__array_function__ internals>:180\u001b[0m, in \u001b[0;36mnanmax\u001b[1;34m(*args, **kwargs)\u001b[0m\n",
      "File \u001b[1;32mc:\\Users\\ASUS\\AppData\\Local\\Programs\\Python\\Python310\\lib\\site-packages\\numpy\\lib\\nanfunctions.py:483\u001b[0m, in \u001b[0;36mnanmax\u001b[1;34m(a, axis, out, keepdims, initial, where)\u001b[0m\n\u001b[0;32m    480\u001b[0m \u001b[39melse\u001b[39;00m:\n\u001b[0;32m    481\u001b[0m     \u001b[39m# Slow, but safe for subclasses of ndarray\u001b[39;00m\n\u001b[0;32m    482\u001b[0m     a, mask \u001b[39m=\u001b[39m _replace_nan(a, \u001b[39m-\u001b[39mnp\u001b[39m.\u001b[39minf)\n\u001b[1;32m--> 483\u001b[0m     res \u001b[39m=\u001b[39m np\u001b[39m.\u001b[39mamax(a, axis\u001b[39m=\u001b[39maxis, out\u001b[39m=\u001b[39mout, \u001b[39m*\u001b[39m\u001b[39m*\u001b[39mkwargs)\n\u001b[0;32m    484\u001b[0m     \u001b[39mif\u001b[39;00m mask \u001b[39mis\u001b[39;00m \u001b[39mNone\u001b[39;00m:\n\u001b[0;32m    485\u001b[0m         \u001b[39mreturn\u001b[39;00m res\n",
      "File \u001b[1;32m<__array_function__ internals>:180\u001b[0m, in \u001b[0;36mamax\u001b[1;34m(*args, **kwargs)\u001b[0m\n",
      "File \u001b[1;32mc:\\Users\\ASUS\\AppData\\Local\\Programs\\Python\\Python310\\lib\\site-packages\\numpy\\core\\fromnumeric.py:2793\u001b[0m, in \u001b[0;36mamax\u001b[1;34m(a, axis, out, keepdims, initial, where)\u001b[0m\n\u001b[0;32m   2677\u001b[0m \u001b[39m@array_function_dispatch\u001b[39m(_amax_dispatcher)\n\u001b[0;32m   2678\u001b[0m \u001b[39mdef\u001b[39;00m \u001b[39mamax\u001b[39m(a, axis\u001b[39m=\u001b[39m\u001b[39mNone\u001b[39;00m, out\u001b[39m=\u001b[39m\u001b[39mNone\u001b[39;00m, keepdims\u001b[39m=\u001b[39mnp\u001b[39m.\u001b[39m_NoValue, initial\u001b[39m=\u001b[39mnp\u001b[39m.\u001b[39m_NoValue,\n\u001b[0;32m   2679\u001b[0m          where\u001b[39m=\u001b[39mnp\u001b[39m.\u001b[39m_NoValue):\n\u001b[0;32m   2680\u001b[0m \u001b[39m    \u001b[39m\u001b[39m\"\"\"\u001b[39;00m\n\u001b[0;32m   2681\u001b[0m \u001b[39m    Return the maximum of an array or maximum along an axis.\u001b[39;00m\n\u001b[0;32m   2682\u001b[0m \n\u001b[1;32m   (...)\u001b[0m\n\u001b[0;32m   2791\u001b[0m \u001b[39m    5\u001b[39;00m\n\u001b[0;32m   2792\u001b[0m \u001b[39m    \"\"\"\u001b[39;00m\n\u001b[1;32m-> 2793\u001b[0m     \u001b[39mreturn\u001b[39;00m _wrapreduction(a, np\u001b[39m.\u001b[39;49mmaximum, \u001b[39m'\u001b[39;49m\u001b[39mmax\u001b[39;49m\u001b[39m'\u001b[39;49m, axis, \u001b[39mNone\u001b[39;49;00m, out,\n\u001b[0;32m   2794\u001b[0m                           keepdims\u001b[39m=\u001b[39;49mkeepdims, initial\u001b[39m=\u001b[39;49minitial, where\u001b[39m=\u001b[39;49mwhere)\n",
      "File \u001b[1;32mc:\\Users\\ASUS\\AppData\\Local\\Programs\\Python\\Python310\\lib\\site-packages\\numpy\\core\\fromnumeric.py:86\u001b[0m, in \u001b[0;36m_wrapreduction\u001b[1;34m(obj, ufunc, method, axis, dtype, out, **kwargs)\u001b[0m\n\u001b[0;32m     83\u001b[0m         \u001b[39melse\u001b[39;00m:\n\u001b[0;32m     84\u001b[0m             \u001b[39mreturn\u001b[39;00m reduction(axis\u001b[39m=\u001b[39maxis, out\u001b[39m=\u001b[39mout, \u001b[39m*\u001b[39m\u001b[39m*\u001b[39mpasskwargs)\n\u001b[1;32m---> 86\u001b[0m \u001b[39mreturn\u001b[39;00m ufunc\u001b[39m.\u001b[39mreduce(obj, axis, dtype, out, \u001b[39m*\u001b[39m\u001b[39m*\u001b[39mpasskwargs)\n",
      "\u001b[1;31mTypeError\u001b[0m: '>=' not supported between instances of 'str' and 'NoneType'"
     ]
    }
   ],
   "source": [
    "import numpy as np\n",
    "\n",
    "max_size = np.nanmax(df_watch['Kích cỡ (mm)'].unique())\n",
    "print(max_size)\n"
   ]
  },
  {
   "cell_type": "code",
   "execution_count": null,
   "metadata": {},
   "outputs": [],
   "source": [
    "def segment_size(size):\n",
    "    if pd.isnull(size):\n",
    "        return 'Unknown'\n",
    "    elif size == '40':\n",
    "        return '1-40'\n",
    "    else:\n",
    "        try:\n",
    "            size = int(size)\n",
    "            if size < 40:\n",
    "                return '1-40'\n",
    "            elif size >= 40 and size <= 50:\n",
    "                return '40-50'\n",
    "            elif size > 50 and size <= 60:\n",
    "                return '50-60'\n",
    "            else:\n",
    "                return '>60'\n",
    "        except ValueError:\n",
    "            return 'Unknown'"
   ]
  },
  {
   "cell_type": "code",
   "execution_count": null,
   "metadata": {},
   "outputs": [],
   "source": [
    "\n",
    "df_watch['Kích cỡ (mm)']=df_watch['Kích cỡ (mm)'].apply(segment_size)"
   ]
  },
  {
   "cell_type": "code",
   "execution_count": null,
   "metadata": {},
   "outputs": [
    {
     "data": {
      "text/plain": [
       "<Figure size 576x360 with 0 Axes>"
      ]
     },
     "execution_count": 183,
     "metadata": {},
     "output_type": "execute_result"
    },
    {
     "data": {
      "text/plain": [
       "<AxesSubplot:>"
      ]
     },
     "execution_count": 183,
     "metadata": {},
     "output_type": "execute_result"
    },
    {
     "data": {
      "image/png": "[encoded data removed]",
      "text/plain": [
       "<Figure size 576x360 with 1 Axes>"
      ]
     },
     "metadata": {
      "needs_background": "light"
     },
     "output_type": "display_data"
    }
   ],
   "source": [
    "plt.figure(figsize=(8,5))\n",
    "df_watch['Kích cỡ (mm)'].value_counts().plot(kind='bar')"
   ]
  },
  {
   "cell_type": "code",
   "execution_count": null,
   "metadata": {},
   "outputs": [
    {
     "data": {
      "text/plain": [
       "Mã sản phẩm            25\n",
       "Thương hiệu           327\n",
       "Giá tiền (VNĐ)          0\n",
       "Chất liệu dây         393\n",
       "Chất liệu vỏ          503\n",
       "Xuất xứ               255\n",
       "Giới tính              70\n",
       "Chất liệu mặt kính     48\n",
       "Độ chịu nước (ATM)    165\n",
       "Bảo hành                0\n",
       "Kiểu máy               28\n",
       "Kích cỡ (mm)            0\n",
       "dtype: int64"
      ]
     },
     "execution_count": 184,
     "metadata": {},
     "output_type": "execute_result"
    }
   ],
   "source": [
    "df_watch.isnull().sum()"
   ]
  },
  {
   "attachments": {},
   "cell_type": "markdown",
   "metadata": {},
   "source": [
    "*Phân loại theo Thương Hiệu sản phẩm"
   ]
  },
  {
   "cell_type": "code",
   "execution_count": null,
   "metadata": {},
   "outputs": [
    {
     "data": {
      "text/plain": [
       "array(['Philippe Auguste', 'Diamond D', 'Atlantic Swiss', 'Aries Gold',\n",
       "       'Epos Swiss', 'Jacques Lemans', 'Tourbillon Memorigin',\n",
       "       'Q&Q Citizen', None, 'Bruno Sohnle', 'Citizen', 'Casio',\n",
       "       'Stuhrling', 'Olympia Star', 'Calvin Klein', 'Hamilton', 'Seiko',\n",
       "       'Orient', 'Longines', 'Daniel Wellington', 'Tissot', 'Olym Pianus',\n",
       "       'Fossil', 'Skagen', 'Freelook', 'Mido', 'Frederique Constant',\n",
       "       'Titoni', 'Charriol', 'Eterna', 'Claude Bernard', 'Candino',\n",
       "       'Certina', 'Rotary', 'Michael Kors', 'Maurice Lacroix', 'Lobinni',\n",
       "       'Carnival', 'Teintop', 'Kassaw', 'Iw Carnival', 'Poniger',\n",
       "       'Hazeal', 'Lorbern', 'Leonidas', 'Mini Focus', 'Stefano Ricci',\n",
       "       'Ogival', 'Festina', 'Bulova', 'Bentley', 'OP', 'Doxa', 'Saga',\n",
       "       'Koi', 'Rado', 'Movado', 'Police', 'Sokolov', 'Adriatica', 'Timex'],\n",
       "      dtype=object)"
      ]
     },
     "execution_count": 185,
     "metadata": {},
     "output_type": "execute_result"
    }
   ],
   "source": [
    "df_watch['Thương hiệu'].unique()"
   ]
  },
  {
   "cell_type": "code",
   "execution_count": null,
   "metadata": {},
   "outputs": [],
   "source": [
    "def segment_th(th):\n",
    "  if pd.isnull(th):\n",
    "    return 'Unknown'\n",
    "  elif 'Citizen' in th or 'Q&Q Citizen' in th:\n",
    "    return 'Citizen'\n",
    "  elif 'Seiko' in th:\n",
    "    return 'Seiko'\n",
    "  elif 'Orient' in th:\n",
    "    return 'Orient'\n",
    "  elif 'Lobinni' in th:\n",
    "    return 'Lobinni'\n",
    "  elif 'Casio' in th:\n",
    "    return 'Casio'\n",
    "  elif 'Tissot' in th:\n",
    "    return 'Tissot'\n",
    "  else:\n",
    "    return 'Other'"
   ]
  },
  {
   "cell_type": "code",
   "execution_count": null,
   "metadata": {},
   "outputs": [],
   "source": [
    "df_watch['Thương hiệu']=df_watch['Thương hiệu'].apply(segment_th)"
   ]
  },
  {
   "cell_type": "code",
   "execution_count": null,
   "metadata": {},
   "outputs": [
    {
     "name": "stdout",
     "output_type": "stream",
     "text": [
      "['Other' 'Citizen' 'Unknown' 'Casio' 'Seiko' 'Orient' 'Tissot' 'Lobinni']\n"
     ]
    }
   ],
   "source": [
    "print(df_watch['Thương hiệu'].unique())"
   ]
  },
  {
   "cell_type": "code",
   "execution_count": null,
   "metadata": {},
   "outputs": [
    {
     "data": {
      "text/plain": [
       "<Figure size 576x360 with 0 Axes>"
      ]
     },
     "execution_count": 189,
     "metadata": {},
     "output_type": "execute_result"
    },
    {
     "data": {
      "text/plain": [
       "<AxesSubplot:>"
      ]
     },
     "execution_count": 189,
     "metadata": {},
     "output_type": "execute_result"
    },
    {
     "data": {
      "image/png": "[encoded data removed]",
      "text/plain": [
       "<Figure size 576x360 with 1 Axes>"
      ]
     },
     "metadata": {
      "needs_background": "light"
     },
     "output_type": "display_data"
    }
   ],
   "source": [
    "plt.figure(figsize=(8,5))\n",
    "df_watch['Thương hiệu'].value_counts().plot(kind='bar',color='green')"
   ]
  },
  {
   "attachments": {},
   "cell_type": "markdown",
   "metadata": {},
   "source": [
    "Phân loại theo Kiểu máy"
   ]
  },
  {
   "cell_type": "code",
   "execution_count": null,
   "metadata": {},
   "outputs": [
    {
     "data": {
      "text/plain": [
       "array(['Quartz', 'Automatic', 'Hand Winding', 'Eco-Drive', None, 'Pin',\n",
       "       'Kinentic', 'Cảm ứng', 'Japan movement', 'Solar'], dtype=object)"
      ]
     },
     "execution_count": 190,
     "metadata": {},
     "output_type": "execute_result"
    }
   ],
   "source": [
    "df_watch['Kiểu máy'].unique()"
   ]
  },
  {
   "cell_type": "code",
   "execution_count": null,
   "metadata": {},
   "outputs": [],
   "source": [
    "def segment_model(model):\n",
    "  if pd.isnull(model):\n",
    "    return 'Unknown'\n",
    "  elif 'Quartz' in model:\n",
    "    return 'Quartz'\n",
    "  elif 'Automatic' in model:\n",
    "    return 'Automatic'\n",
    "  elif 'Hand Winding' in model:\n",
    "    return 'Hand Winding'\n",
    "  elif 'Eco-Drive' in model:\n",
    "    return 'Eco'\n",
    "  elif 'Pin' in model:\n",
    "    return 'Pin'\n",
    "  elif 'Kinentic' in model:\n",
    "    return 'Kinentic'\n",
    "  elif 'Cảm ứng' in model:\n",
    "    return 'Cảm ứng'\n",
    "  elif 'Japan movement' in model:\n",
    "    return 'Japan movement'\n",
    "  elif 'Solar' in model:\n",
    "    return 'Solar'\n",
    "  else:\n",
    "    return 'Other'"
   ]
  },
  {
   "cell_type": "code",
   "execution_count": null,
   "metadata": {},
   "outputs": [],
   "source": [
    "df_watch['Kiểu máy']=df_watch['Kiểu máy'].apply(segment_model)"
   ]
  },
  {
   "cell_type": "code",
   "execution_count": null,
   "metadata": {},
   "outputs": [
    {
     "data": {
      "text/plain": [
       "<Figure size 576x360 with 0 Axes>"
      ]
     },
     "execution_count": 193,
     "metadata": {},
     "output_type": "execute_result"
    },
    {
     "data": {
      "text/plain": [
       "<AxesSubplot:>"
      ]
     },
     "execution_count": 193,
     "metadata": {},
     "output_type": "execute_result"
    },
    {
     "data": {
      "image/png": "[encoded data removed]",
      "text/plain": [
       "<Figure size 576x360 with 1 Axes>"
      ]
     },
     "metadata": {
      "needs_background": "light"
     },
     "output_type": "display_data"
    }
   ],
   "source": [
    "plt.figure(figsize=(8,5))\n",
    "df_watch['Kiểu máy'].value_counts().plot(kind='bar',color='purple')"
   ]
  },
  {
   "attachments": {},
   "cell_type": "markdown",
   "metadata": {},
   "source": [
    "Phân đoạn theo độ chịu nước"
   ]
  },
  {
   "cell_type": "code",
   "execution_count": null,
   "metadata": {},
   "outputs": [
    {
     "data": {
      "text/plain": [
       "array(['5', '10', '3', '20', '50', None, '30', '6', '12', '60', '38'],\n",
       "      dtype=object)"
      ]
     },
     "execution_count": 194,
     "metadata": {},
     "output_type": "execute_result"
    }
   ],
   "source": [
    "df_watch['Độ chịu nước (ATM)'].unique()"
   ]
  },
  {
   "cell_type": "code",
   "execution_count": null,
   "metadata": {},
   "outputs": [],
   "source": [
    "def segment_water_resistance(water_resistance):\n",
    "    if pd.isnull(water_resistance) or water_resistance == 'Not specified':\n",
    "        return 'Unknown'\n",
    "    elif water_resistance == '3':\n",
    "        return 'Splash resistant'\n",
    "    else:\n",
    "        depth = int(water_resistance)\n",
    "        if depth >= 0 and depth <= 10:\n",
    "            return '10ATM or less'\n",
    "        elif depth > 10 and depth <= 30:\n",
    "            return '10ATM - 30ATM'\n",
    "        elif depth <= 60:\n",
    "            return '10ATM or less'\n",
    "        else:\n",
    "            return 'More than 60ATM'"
   ]
  },
  {
   "cell_type": "code",
   "execution_count": null,
   "metadata": {},
   "outputs": [],
   "source": [
    "df_watch['Độ chịu nước (ATM)']=df_watch['Độ chịu nước (ATM)'].apply(segment_water_resistance)"
   ]
  },
  {
   "cell_type": "code",
   "execution_count": null,
   "metadata": {},
   "outputs": [
    {
     "data": {
      "text/plain": [
       "<Figure size 576x360 with 0 Axes>"
      ]
     },
     "execution_count": 197,
     "metadata": {},
     "output_type": "execute_result"
    },
    {
     "data": {
      "text/plain": [
       "<AxesSubplot:>"
      ]
     },
     "execution_count": 197,
     "metadata": {},
     "output_type": "execute_result"
    },
    {
     "data": {
      "image/png": "[encoded data removed]",
      "text/plain": [
       "<Figure size 576x360 with 1 Axes>"
      ]
     },
     "metadata": {
      "needs_background": "light"
     },
     "output_type": "display_data"
    }
   ],
   "source": [
    "plt.figure(figsize=(8,5))\n",
    "df_watch['Độ chịu nước (ATM)'].value_counts().plot(kind='bar',color='purple')"
   ]
  },
  {
   "cell_type": "code",
   "execution_count": null,
   "metadata": {},
   "outputs": [
    {
     "data": {
      "text/plain": [
       "<Figure size 720x432 with 0 Axes>"
      ]
     },
     "execution_count": 198,
     "metadata": {},
     "output_type": "execute_result"
    },
    {
     "data": {
      "text/plain": [
       "<AxesSubplot:>"
      ]
     },
     "execution_count": 198,
     "metadata": {},
     "output_type": "execute_result"
    },
    {
     "data": {
      "text/plain": [
       "Text(0.5, 0, 'Cột')"
      ]
     },
     "execution_count": 198,
     "metadata": {},
     "output_type": "execute_result"
    },
    {
     "data": {
      "text/plain": [
       "Text(0, 0.5, 'Số lượng dữ liệu trống')"
      ]
     },
     "execution_count": 198,
     "metadata": {},
     "output_type": "execute_result"
    },
    {
     "data": {
      "text/plain": [
       "Text(0, 25, '25')"
      ]
     },
     "execution_count": 198,
     "metadata": {},
     "output_type": "execute_result"
    },
    {
     "data": {
      "text/plain": [
       "Text(1, 0, '0')"
      ]
     },
     "execution_count": 198,
     "metadata": {},
     "output_type": "execute_result"
    },
    {
     "data": {
      "text/plain": [
       "Text(2, 0, '0')"
      ]
     },
     "execution_count": 198,
     "metadata": {},
     "output_type": "execute_result"
    },
    {
     "data": {
      "text/plain": [
       "Text(3, 393, '393')"
      ]
     },
     "execution_count": 198,
     "metadata": {},
     "output_type": "execute_result"
    },
    {
     "data": {
      "text/plain": [
       "Text(4, 503, '503')"
      ]
     },
     "execution_count": 198,
     "metadata": {},
     "output_type": "execute_result"
    },
    {
     "data": {
      "text/plain": [
       "Text(5, 255, '255')"
      ]
     },
     "execution_count": 198,
     "metadata": {},
     "output_type": "execute_result"
    },
    {
     "data": {
      "text/plain": [
       "Text(6, 70, '70')"
      ]
     },
     "execution_count": 198,
     "metadata": {},
     "output_type": "execute_result"
    },
    {
     "data": {
      "text/plain": [
       "Text(7, 48, '48')"
      ]
     },
     "execution_count": 198,
     "metadata": {},
     "output_type": "execute_result"
    },
    {
     "data": {
      "text/plain": [
       "Text(8, 0, '0')"
      ]
     },
     "execution_count": 198,
     "metadata": {},
     "output_type": "execute_result"
    },
    {
     "data": {
      "text/plain": [
       "Text(9, 0, '0')"
      ]
     },
     "execution_count": 198,
     "metadata": {},
     "output_type": "execute_result"
    },
    {
     "data": {
      "text/plain": [
       "Text(10, 0, '0')"
      ]
     },
     "execution_count": 198,
     "metadata": {},
     "output_type": "execute_result"
    },
    {
     "data": {
      "text/plain": [
       "Text(11, 0, '0')"
      ]
     },
     "execution_count": 198,
     "metadata": {},
     "output_type": "execute_result"
    },
    {
     "data": {
      "text/plain": [
       "Text(0.5, 1.0, 'Số lượng dữ liệu trống trong DataFrame')"
      ]
     },
     "execution_count": 198,
     "metadata": {},
     "output_type": "execute_result"
    },
    {
     "data": {
      "text/plain": [
       "(array([ 0,  1,  2,  3,  4,  5,  6,  7,  8,  9, 10, 11]),\n",
       " [Text(0, 0, 'Mã sản phẩm'),\n",
       "  Text(1, 0, 'Thương hiệu'),\n",
       "  Text(2, 0, 'Giá tiền (VNĐ)'),\n",
       "  Text(3, 0, 'Chất liệu dây'),\n",
       "  Text(4, 0, 'Chất liệu vỏ'),\n",
       "  Text(5, 0, 'Xuất xứ'),\n",
       "  Text(6, 0, 'Giới tính'),\n",
       "  Text(7, 0, 'Chất liệu mặt kính'),\n",
       "  Text(8, 0, 'Độ chịu nước (ATM)'),\n",
       "  Text(9, 0, 'Bảo hành'),\n",
       "  Text(10, 0, 'Kiểu máy'),\n",
       "  Text(11, 0, 'Kích cỡ (mm)')])"
      ]
     },
     "execution_count": 198,
     "metadata": {},
     "output_type": "execute_result"
    },
    {
     "data": {
      "image/png": "[encoded data removed]",
      "text/plain": [
       "<Figure size 720x432 with 1 Axes>"
      ]
     },
     "metadata": {
      "needs_background": "light"
     },
     "output_type": "display_data"
    }
   ],
   "source": [
    "import matplotlib.pyplot as plt\n",
    "\n",
    "missing_data_counts = df_watch.isnull().sum()\n",
    "\n",
    "plt.figure(figsize=(10, 6))\n",
    "missing_data_counts.plot(kind='bar')\n",
    "plt.xlabel('Cột')\n",
    "plt.ylabel('Số lượng dữ liệu trống')\n",
    "\n",
    "for i, value in enumerate(missing_data_counts):\n",
    "    plt.text(i, value, str(value), ha='center', va='bottom')\n",
    "\n",
    "plt.title('Số lượng dữ liệu trống trong DataFrame')\n",
    "plt.xticks(rotation=45)\n",
    "plt.show()"
   ]
  },
  {
   "attachments": {},
   "cell_type": "markdown",
   "metadata": {},
   "source": [
    "Phân bố dữ liệu của trường dự đoán Price:"
   ]
  },
  {
   "cell_type": "code",
   "execution_count": null,
   "metadata": {},
   "outputs": [
    {
     "data": {
      "text/plain": [
       "(13829, 12)"
      ]
     },
     "execution_count": 199,
     "metadata": {},
     "output_type": "execute_result"
    }
   ],
   "source": [
    "df_watch.shape"
   ]
  },
  {
   "cell_type": "code",
   "execution_count": null,
   "metadata": {},
   "outputs": [
    {
     "data": {
      "text/plain": [
       "Mã sản phẩm           12545\n",
       "Thương hiệu               8\n",
       "Giá tiền (VNĐ)         3748\n",
       "Chất liệu dây            16\n",
       "Chất liệu vỏ              9\n",
       "Xuất xứ                  14\n",
       "Giới tính                 2\n",
       "Chất liệu mặt kính        8\n",
       "Độ chịu nước (ATM)        4\n",
       "Bảo hành                  7\n",
       "Kiểu máy                 10\n",
       "Kích cỡ (mm)              4\n",
       "dtype: int64"
      ]
     },
     "execution_count": 200,
     "metadata": {},
     "output_type": "execute_result"
    }
   ],
   "source": [
    "#Check the number of unique value\n",
    "df_watch.select_dtypes(include='object').nunique()"
   ]
  },
  {
   "cell_type": "code",
   "execution_count": null,
   "metadata": {},
   "outputs": [
    {
     "data": {
      "text/plain": [
       "['Mã sản phẩm',\n",
       " 'Thương hiệu',\n",
       " 'Giá tiền (VNĐ)',\n",
       " 'Chất liệu dây',\n",
       " 'Chất liệu vỏ',\n",
       " 'Xuất xứ',\n",
       " 'Giới tính',\n",
       " 'Chất liệu mặt kính',\n",
       " 'Độ chịu nước (ATM)',\n",
       " 'Bảo hành',\n",
       " 'Kiểu máy',\n",
       " 'Kích cỡ (mm)']"
      ]
     },
     "execution_count": 201,
     "metadata": {},
     "output_type": "execute_result"
    }
   ],
   "source": [
    "\n",
    "list(df_watch.columns)"
   ]
  },
  {
   "cell_type": "code",
   "execution_count": null,
   "metadata": {},
   "outputs": [
    {
     "data": {
      "text/plain": [
       "Index([], dtype='object')"
      ]
     },
     "execution_count": 202,
     "metadata": {},
     "output_type": "execute_result"
    }
   ],
   "source": [
    "df_watch.select_dtypes(include=\"float64\").columns"
   ]
  },
  {
   "cell_type": "code",
   "execution_count": null,
   "metadata": {},
   "outputs": [],
   "source": [
    "cat_vars=[\n",
    " 'Thương hiệu',\n",
    " 'Chất liệu vỏ',\n",
    " 'Chất liệu mặt kính',\n",
    " 'Độ chịu nước (ATM)',\n",
    " 'Bảo hành',\n",
    " 'Kiểu máy',\n",
    " 'Kích cỡ (mm)']"
   ]
  }
 ],
 "metadata": {
  "kernelspec": {
   "display_name": "Python 3",
   "language": "python",
   "name": "python3"
  },
  "language_info": {
   "codemirror_mode": {
    "name": "ipython",
    "version": 3
   },
   "file_extension": ".py",
   "mimetype": "text/x-python",
   "name": "python",
   "nbconvert_exporter": "python",
   "pygments_lexer": "ipython3",
   "version": "3.10.11"
  },
  "orig_nbformat": 4
 },
 "nbformat": 4,
 "nbformat_minor": 2
}
