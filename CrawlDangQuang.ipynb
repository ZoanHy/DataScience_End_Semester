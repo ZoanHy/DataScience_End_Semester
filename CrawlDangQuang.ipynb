{
 "cells": [
  {
   "cell_type": "code",
   "execution_count": 1,
   "metadata": {},
   "outputs": [
    {
     "ename": "KeyboardInterrupt",
     "evalue": "",
     "output_type": "error",
     "traceback": [
      "\u001b[1;31m---------------------------------------------------------------------------\u001b[0m",
      "\u001b[1;31mKeyboardInterrupt\u001b[0m                         Traceback (most recent call last)",
      "Cell \u001b[1;32mIn[1], line 61\u001b[0m\n\u001b[0;32m     53\u001b[0m all_page \u001b[39m=\u001b[39m [\n\u001b[0;32m     54\u001b[0m     \u001b[39mf\u001b[39m\u001b[39m\"\u001b[39m\u001b[39mhttps://www.dangquangwatch.vn/sp/dong-ho-chinh-hang.html?&page=\u001b[39m\u001b[39m{\u001b[39;00midx_page\u001b[39m}\u001b[39;00m\u001b[39m\"\u001b[39m\n\u001b[0;32m     55\u001b[0m     \u001b[39mfor\u001b[39;00m idx_page \u001b[39min\u001b[39;00m \u001b[39mrange\u001b[39m(\u001b[39m1\u001b[39m, \u001b[39m125\u001b[39m)\n\u001b[0;32m     56\u001b[0m ]\n\u001b[0;32m     57\u001b[0m all_links \u001b[39m=\u001b[39m [\n\u001b[0;32m     58\u001b[0m     (domain \u001b[39m+\u001b[39m a[\u001b[39m\"\u001b[39m\u001b[39mhref\u001b[39m\u001b[39m\"\u001b[39m]) \u001b[39mfor\u001b[39;00m url \u001b[39min\u001b[39;00m all_page \u001b[39mfor\u001b[39;00m a \u001b[39min\u001b[39;00m get_soup(url)\u001b[39m.\u001b[39mselect(\u001b[39m\"\u001b[39m\u001b[39ma.p_info\u001b[39m\u001b[39m\"\u001b[39m)\n\u001b[0;32m     59\u001b[0m ]\n\u001b[1;32m---> 61\u001b[0m data_frame_watchs \u001b[39m=\u001b[39m crawl_data_from_web(all_links)\n\u001b[0;32m     63\u001b[0m data_frame_watchs\n",
      "Cell \u001b[1;32mIn[1], line 47\u001b[0m, in \u001b[0;36mcrawl_data_from_web\u001b[1;34m(all_links)\u001b[0m\n\u001b[0;32m     46\u001b[0m \u001b[39mdef\u001b[39;00m \u001b[39mcrawl_data_from_web\u001b[39m(all_links):\n\u001b[1;32m---> 47\u001b[0m     \u001b[39mwith\u001b[39;00m concurrent\u001b[39m.\u001b[39mfutures\u001b[39m.\u001b[39mThreadPoolExecutor() \u001b[39mas\u001b[39;00m executor:\n\u001b[0;32m     48\u001b[0m         results \u001b[39m=\u001b[39m executor\u001b[39m.\u001b[39mmap(get_product_info, all_links)\n\u001b[0;32m     49\u001b[0m     data_frame_watchs \u001b[39m=\u001b[39m pd\u001b[39m.\u001b[39mDataFrame(results)\n",
      "File \u001b[1;32mc:\\Users\\ASUS\\AppData\\Local\\Programs\\Python\\Python310\\lib\\concurrent\\futures\\_base.py:649\u001b[0m, in \u001b[0;36mExecutor.__exit__\u001b[1;34m(self, exc_type, exc_val, exc_tb)\u001b[0m\n\u001b[0;32m    648\u001b[0m \u001b[39mdef\u001b[39;00m \u001b[39m__exit__\u001b[39m(\u001b[39mself\u001b[39m, exc_type, exc_val, exc_tb):\n\u001b[1;32m--> 649\u001b[0m     \u001b[39mself\u001b[39;49m\u001b[39m.\u001b[39;49mshutdown(wait\u001b[39m=\u001b[39;49m\u001b[39mTrue\u001b[39;49;00m)\n\u001b[0;32m    650\u001b[0m     \u001b[39mreturn\u001b[39;00m \u001b[39mFalse\u001b[39;00m\n",
      "File \u001b[1;32mc:\\Users\\ASUS\\AppData\\Local\\Programs\\Python\\Python310\\lib\\concurrent\\futures\\thread.py:235\u001b[0m, in \u001b[0;36mThreadPoolExecutor.shutdown\u001b[1;34m(self, wait, cancel_futures)\u001b[0m\n\u001b[0;32m    233\u001b[0m \u001b[39mif\u001b[39;00m wait:\n\u001b[0;32m    234\u001b[0m     \u001b[39mfor\u001b[39;00m t \u001b[39min\u001b[39;00m \u001b[39mself\u001b[39m\u001b[39m.\u001b[39m_threads:\n\u001b[1;32m--> 235\u001b[0m         t\u001b[39m.\u001b[39;49mjoin()\n",
      "File \u001b[1;32mc:\\Users\\ASUS\\AppData\\Local\\Programs\\Python\\Python310\\lib\\threading.py:1096\u001b[0m, in \u001b[0;36mThread.join\u001b[1;34m(self, timeout)\u001b[0m\n\u001b[0;32m   1093\u001b[0m     \u001b[39mraise\u001b[39;00m \u001b[39mRuntimeError\u001b[39;00m(\u001b[39m\"\u001b[39m\u001b[39mcannot join current thread\u001b[39m\u001b[39m\"\u001b[39m)\n\u001b[0;32m   1095\u001b[0m \u001b[39mif\u001b[39;00m timeout \u001b[39mis\u001b[39;00m \u001b[39mNone\u001b[39;00m:\n\u001b[1;32m-> 1096\u001b[0m     \u001b[39mself\u001b[39;49m\u001b[39m.\u001b[39;49m_wait_for_tstate_lock()\n\u001b[0;32m   1097\u001b[0m \u001b[39melse\u001b[39;00m:\n\u001b[0;32m   1098\u001b[0m     \u001b[39m# the behavior of a negative timeout isn't documented, but\u001b[39;00m\n\u001b[0;32m   1099\u001b[0m     \u001b[39m# historically .join(timeout=x) for x<0 has acted as if timeout=0\u001b[39;00m\n\u001b[0;32m   1100\u001b[0m     \u001b[39mself\u001b[39m\u001b[39m.\u001b[39m_wait_for_tstate_lock(timeout\u001b[39m=\u001b[39m\u001b[39mmax\u001b[39m(timeout, \u001b[39m0\u001b[39m))\n",
      "File \u001b[1;32mc:\\Users\\ASUS\\AppData\\Local\\Programs\\Python\\Python310\\lib\\threading.py:1116\u001b[0m, in \u001b[0;36mThread._wait_for_tstate_lock\u001b[1;34m(self, block, timeout)\u001b[0m\n\u001b[0;32m   1113\u001b[0m     \u001b[39mreturn\u001b[39;00m\n\u001b[0;32m   1115\u001b[0m \u001b[39mtry\u001b[39;00m:\n\u001b[1;32m-> 1116\u001b[0m     \u001b[39mif\u001b[39;00m lock\u001b[39m.\u001b[39;49macquire(block, timeout):\n\u001b[0;32m   1117\u001b[0m         lock\u001b[39m.\u001b[39mrelease()\n\u001b[0;32m   1118\u001b[0m         \u001b[39mself\u001b[39m\u001b[39m.\u001b[39m_stop()\n",
      "\u001b[1;31mKeyboardInterrupt\u001b[0m: "
     ]
    }
   ],
   "source": [
    "import concurrent.futures\n",
    "import pandas as pd\n",
    "import requests\n",
    "from bs4 import BeautifulSoup\n",
    "from pprint import pprint\n",
    "\n",
    "\n",
    "domain = \"https://www.dangquangwatch.vn\"\n",
    "\n",
    "\n",
    "def get_soup(url):\n",
    "    headers = {\n",
    "        \"User-Agent\": \"Mozilla/5.0 (Windows NT 10.0; Win64; x64) AppleWebKit/537.36 (KHTML, like Gecko) Chrome/112.0.0.0 Safari/537.36\"\n",
    "    }\n",
    "    with requests.Session() as session:\n",
    "        response = session.get(url, headers=headers)\n",
    "        soup = BeautifulSoup(response.content, \"lxml\")\n",
    "    return soup\n",
    "\n",
    "\n",
    "def get_product_info(url):\n",
    "    soup = get_soup(url)\n",
    "    title_name = soup.select_one(\".product-subname\").text.split(\" - \")[0].split(\" \")\n",
    "\n",
    "    name = \" \".join(title_name[:-1])\n",
    "\n",
    "    price = soup.select_one(\".price\").text.replace(\"\\xa0₫\", \"\")\n",
    "    product_code = title_name[-1]\n",
    "\n",
    "    details = {}\n",
    "    table = soup.select_one(\".detail_product_right .depro_right_content\").find_all(\n",
    "        class_=\"item\"\n",
    "    )\n",
    "    for row in table:\n",
    "        list_p = row.find_all(name=\"p\")\n",
    "        first_name = list_p[0].get_text().strip()\n",
    "        second_name = list_p[1].get_text().strip()\n",
    "        details[first_name] = second_name\n",
    "    return {\n",
    "        \"Mã sản phẩm\": product_code,\n",
    "        \"Giá tiền\": price,\n",
    "        **details,\n",
    "    }\n",
    "\n",
    "\n",
    "def crawl_data_from_web(all_links):\n",
    "    with concurrent.futures.ThreadPoolExecutor() as executor:\n",
    "        results = executor.map(get_product_info, all_links)\n",
    "    data_frame_watchs = pd.DataFrame(results)\n",
    "    return data_frame_watchs\n",
    "\n",
    "\n",
    "all_page = [\n",
    "    f\"https://www.dangquangwatch.vn/sp/dong-ho-chinh-hang.html?&page={idx_page}\"\n",
    "    for idx_page in range(1, 125)\n",
    "]\n",
    "all_links = [\n",
    "    (domain + a[\"href\"]) for url in all_page for a in get_soup(url).select(\"a.p_info\")\n",
    "]\n",
    "\n",
    "data_frame_watchs = crawl_data_from_web(all_links)\n",
    "\n",
    "data_frame_watchs\n"
   ]
  }
 ],
 "metadata": {
  "kernelspec": {
   "display_name": "Python 3",
   "language": "python",
   "name": "python3"
  },
  "language_info": {
   "codemirror_mode": {
    "name": "ipython",
    "version": 3
   },
   "file_extension": ".py",
   "mimetype": "text/x-python",
   "name": "python",
   "nbconvert_exporter": "python",
   "pygments_lexer": "ipython3",
   "version": "3.10.11"
  },
  "orig_nbformat": 4
 },
 "nbformat": 4,
 "nbformat_minor": 2
}
